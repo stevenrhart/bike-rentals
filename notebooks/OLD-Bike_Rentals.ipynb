{
 "cells": [
  {
   "cell_type": "markdown",
   "metadata": {},
   "source": [
    "# Customer Behavior Analysis - NYC Bike Rentals\n",
    "\n",
    "In this project I will analyze bike rental data from New York City to try and find any interesting behavioral patterns between the different customer types. The dataset comes from **TBD** and includes the following columns:\n",
    "\n",
    "Link to data files - https://s3.amazonaws.com/tripdata/index.html\n",
    "Link to home page  - https://www.citibikenyc.com/\n",
    "Link to specific month - TBD\n",
    "\n",
    "- `tripduration` (int64) - length of rental in seconds\n",
    "- `starttime` (object) - rental start time\n",
    "- `stoptime` (object) - rental stop time\n",
    "- `start station id` (int64) - id of start station \n",
    "- `start station name` (object) - name of start station\n",
    "- `start station latitude` (float64) - latitude of start station\n",
    "- `start station longitude` (float64) - longitude of start station\n",
    "- `end station id` (int64) - id of end station\n",
    "- `end station name` (object) - name of end station\n",
    "- `end station latitude` (float64) - latitude of end station\n",
    "- `end station longitude` (float64) - longitude of end station\n",
    "- `bikeid` (int64) - id of rental bike\n",
    "- `usertype` (object) - type of user ('Subscriber' or 'Customer')\n",
    "- `birth year` (object) - birth year of renter (if known)\n",
    "- `gender` (int64) - gender of renter (if known)\n",
    "\n",
    "\n",
    "In this exploratory data analysis, I will be looking into behavioral differences between user types.\n",
    "1. Rental count\n",
    "2. Rental duration\n",
    "3. Rentals by station\n",
    "    1. Which stations are most popular for rentals overall? By day of week? By hour of day? And does this vary by user type?\n",
    "    2. Station popularity\n",
    "        1. Which stations are most popular overall? By user type? By day of week? By hour of day?\n",
    "        2. Which station is most popular for starting a trip? ending a trip?\n",
    "        3. Which trips are most popular (start station to end station) and how does this vary across our key dimensions (i.e., user type, day of week, hour of day)\n",
    "        \n",
    "Let's get started..."
   ]
  },
  {
   "cell_type": "markdown",
   "metadata": {},
   "source": [
    "## 1. Setup\n",
    "\n",
    "Before we get started with the analysis, we need to do some prep work. First, we'll import the required libraries for the project and then we can read in and preview our data set."
   ]
  },
  {
   "cell_type": "code",
   "execution_count": 13,
   "metadata": {},
   "outputs": [
    {
     "data": {
      "application/javascript": [
       "\n",
       "(function(root) {\n",
       "  function now() {\n",
       "    return new Date();\n",
       "  }\n",
       "\n",
       "  var force = true;\n",
       "\n",
       "  if (typeof root._bokeh_onload_callbacks === \"undefined\" || force === true) {\n",
       "    root._bokeh_onload_callbacks = [];\n",
       "    root._bokeh_is_loading = undefined;\n",
       "  }\n",
       "\n",
       "  var JS_MIME_TYPE = 'application/javascript';\n",
       "  var HTML_MIME_TYPE = 'text/html';\n",
       "  var EXEC_MIME_TYPE = 'application/vnd.bokehjs_exec.v0+json';\n",
       "  var CLASS_NAME = 'output_bokeh rendered_html';\n",
       "\n",
       "  /**\n",
       "   * Render data to the DOM node\n",
       "   */\n",
       "  function render(props, node) {\n",
       "    var script = document.createElement(\"script\");\n",
       "    node.appendChild(script);\n",
       "  }\n",
       "\n",
       "  /**\n",
       "   * Handle when an output is cleared or removed\n",
       "   */\n",
       "  function handleClearOutput(event, handle) {\n",
       "    var cell = handle.cell;\n",
       "\n",
       "    var id = cell.output_area._bokeh_element_id;\n",
       "    var server_id = cell.output_area._bokeh_server_id;\n",
       "    // Clean up Bokeh references\n",
       "    if (id != null && id in Bokeh.index) {\n",
       "      Bokeh.index[id].model.document.clear();\n",
       "      delete Bokeh.index[id];\n",
       "    }\n",
       "\n",
       "    if (server_id !== undefined) {\n",
       "      // Clean up Bokeh references\n",
       "      var cmd = \"from bokeh.io.state import curstate; print(curstate().uuid_to_server['\" + server_id + \"'].get_sessions()[0].document.roots[0]._id)\";\n",
       "      cell.notebook.kernel.execute(cmd, {\n",
       "        iopub: {\n",
       "          output: function(msg) {\n",
       "            var id = msg.content.text.trim();\n",
       "            if (id in Bokeh.index) {\n",
       "              Bokeh.index[id].model.document.clear();\n",
       "              delete Bokeh.index[id];\n",
       "            }\n",
       "          }\n",
       "        }\n",
       "      });\n",
       "      // Destroy server and session\n",
       "      var cmd = \"import bokeh.io.notebook as ion; ion.destroy_server('\" + server_id + \"')\";\n",
       "      cell.notebook.kernel.execute(cmd);\n",
       "    }\n",
       "  }\n",
       "\n",
       "  /**\n",
       "   * Handle when a new output is added\n",
       "   */\n",
       "  function handleAddOutput(event, handle) {\n",
       "    var output_area = handle.output_area;\n",
       "    var output = handle.output;\n",
       "\n",
       "    // limit handleAddOutput to display_data with EXEC_MIME_TYPE content only\n",
       "    if ((output.output_type != \"display_data\") || (!output.data.hasOwnProperty(EXEC_MIME_TYPE))) {\n",
       "      return\n",
       "    }\n",
       "\n",
       "    var toinsert = output_area.element.find(\".\" + CLASS_NAME.split(' ')[0]);\n",
       "\n",
       "    if (output.metadata[EXEC_MIME_TYPE][\"id\"] !== undefined) {\n",
       "      toinsert[toinsert.length - 1].firstChild.textContent = output.data[JS_MIME_TYPE];\n",
       "      // store reference to embed id on output_area\n",
       "      output_area._bokeh_element_id = output.metadata[EXEC_MIME_TYPE][\"id\"];\n",
       "    }\n",
       "    if (output.metadata[EXEC_MIME_TYPE][\"server_id\"] !== undefined) {\n",
       "      var bk_div = document.createElement(\"div\");\n",
       "      bk_div.innerHTML = output.data[HTML_MIME_TYPE];\n",
       "      var script_attrs = bk_div.children[0].attributes;\n",
       "      for (var i = 0; i < script_attrs.length; i++) {\n",
       "        toinsert[toinsert.length - 1].firstChild.setAttribute(script_attrs[i].name, script_attrs[i].value);\n",
       "        toinsert[toinsert.length - 1].firstChild.textContent = bk_div.children[0].textContent\n",
       "      }\n",
       "      // store reference to server id on output_area\n",
       "      output_area._bokeh_server_id = output.metadata[EXEC_MIME_TYPE][\"server_id\"];\n",
       "    }\n",
       "  }\n",
       "\n",
       "  function register_renderer(events, OutputArea) {\n",
       "\n",
       "    function append_mime(data, metadata, element) {\n",
       "      // create a DOM node to render to\n",
       "      var toinsert = this.create_output_subarea(\n",
       "        metadata,\n",
       "        CLASS_NAME,\n",
       "        EXEC_MIME_TYPE\n",
       "      );\n",
       "      this.keyboard_manager.register_events(toinsert);\n",
       "      // Render to node\n",
       "      var props = {data: data, metadata: metadata[EXEC_MIME_TYPE]};\n",
       "      render(props, toinsert[toinsert.length - 1]);\n",
       "      element.append(toinsert);\n",
       "      return toinsert\n",
       "    }\n",
       "\n",
       "    /* Handle when an output is cleared or removed */\n",
       "    events.on('clear_output.CodeCell', handleClearOutput);\n",
       "    events.on('delete.Cell', handleClearOutput);\n",
       "\n",
       "    /* Handle when a new output is added */\n",
       "    events.on('output_added.OutputArea', handleAddOutput);\n",
       "\n",
       "    /**\n",
       "     * Register the mime type and append_mime function with output_area\n",
       "     */\n",
       "    OutputArea.prototype.register_mime_type(EXEC_MIME_TYPE, append_mime, {\n",
       "      /* Is output safe? */\n",
       "      safe: true,\n",
       "      /* Index of renderer in `output_area.display_order` */\n",
       "      index: 0\n",
       "    });\n",
       "  }\n",
       "\n",
       "  // register the mime type if in Jupyter Notebook environment and previously unregistered\n",
       "  if (root.Jupyter !== undefined) {\n",
       "    var events = require('base/js/events');\n",
       "    var OutputArea = require('notebook/js/outputarea').OutputArea;\n",
       "\n",
       "    if (OutputArea.prototype.mime_types().indexOf(EXEC_MIME_TYPE) == -1) {\n",
       "      register_renderer(events, OutputArea);\n",
       "    }\n",
       "  }\n",
       "\n",
       "  \n",
       "  if (typeof (root._bokeh_timeout) === \"undefined\" || force === true) {\n",
       "    root._bokeh_timeout = Date.now() + 5000;\n",
       "    root._bokeh_failed_load = false;\n",
       "  }\n",
       "\n",
       "  var NB_LOAD_WARNING = {'data': {'text/html':\n",
       "     \"<div style='background-color: #fdd'>\\n\"+\n",
       "     \"<p>\\n\"+\n",
       "     \"BokehJS does not appear to have successfully loaded. If loading BokehJS from CDN, this \\n\"+\n",
       "     \"may be due to a slow or bad network connection. Possible fixes:\\n\"+\n",
       "     \"</p>\\n\"+\n",
       "     \"<ul>\\n\"+\n",
       "     \"<li>re-rerun `output_notebook()` to attempt to load from CDN again, or</li>\\n\"+\n",
       "     \"<li>use INLINE resources instead, as so:</li>\\n\"+\n",
       "     \"</ul>\\n\"+\n",
       "     \"<code>\\n\"+\n",
       "     \"from bokeh.resources import INLINE\\n\"+\n",
       "     \"output_notebook(resources=INLINE)\\n\"+\n",
       "     \"</code>\\n\"+\n",
       "     \"</div>\"}};\n",
       "\n",
       "  function display_loaded() {\n",
       "    var el = document.getElementById(null);\n",
       "    if (el != null) {\n",
       "      el.textContent = \"BokehJS is loading...\";\n",
       "    }\n",
       "    if (root.Bokeh !== undefined) {\n",
       "      if (el != null) {\n",
       "        el.textContent = \"BokehJS \" + root.Bokeh.version + \" successfully loaded.\";\n",
       "      }\n",
       "    } else if (Date.now() < root._bokeh_timeout) {\n",
       "      setTimeout(display_loaded, 100)\n",
       "    }\n",
       "  }\n",
       "\n",
       "\n",
       "  function run_callbacks() {\n",
       "    try {\n",
       "      root._bokeh_onload_callbacks.forEach(function(callback) {\n",
       "        if (callback != null)\n",
       "          callback();\n",
       "      });\n",
       "    } finally {\n",
       "      delete root._bokeh_onload_callbacks\n",
       "    }\n",
       "    console.debug(\"Bokeh: all callbacks have finished\");\n",
       "  }\n",
       "\n",
       "  function load_libs(css_urls, js_urls, callback) {\n",
       "    if (css_urls == null) css_urls = [];\n",
       "    if (js_urls == null) js_urls = [];\n",
       "\n",
       "    root._bokeh_onload_callbacks.push(callback);\n",
       "    if (root._bokeh_is_loading > 0) {\n",
       "      console.debug(\"Bokeh: BokehJS is being loaded, scheduling callback at\", now());\n",
       "      return null;\n",
       "    }\n",
       "    if (js_urls == null || js_urls.length === 0) {\n",
       "      run_callbacks();\n",
       "      return null;\n",
       "    }\n",
       "    console.debug(\"Bokeh: BokehJS not loaded, scheduling load and callback at\", now());\n",
       "    root._bokeh_is_loading = css_urls.length + js_urls.length;\n",
       "\n",
       "    function on_load() {\n",
       "      root._bokeh_is_loading--;\n",
       "      if (root._bokeh_is_loading === 0) {\n",
       "        console.debug(\"Bokeh: all BokehJS libraries/stylesheets loaded\");\n",
       "        run_callbacks()\n",
       "      }\n",
       "    }\n",
       "\n",
       "    function on_error() {\n",
       "      console.error(\"failed to load \" + url);\n",
       "    }\n",
       "\n",
       "    for (var i = 0; i < css_urls.length; i++) {\n",
       "      var url = css_urls[i];\n",
       "      const element = document.createElement(\"link\");\n",
       "      element.onload = on_load;\n",
       "      element.onerror = on_error;\n",
       "      element.rel = \"stylesheet\";\n",
       "      element.type = \"text/css\";\n",
       "      element.href = url;\n",
       "      console.debug(\"Bokeh: injecting link tag for BokehJS stylesheet: \", url);\n",
       "      document.body.appendChild(element);\n",
       "    }\n",
       "\n",
       "    const hashes = {\"https://cdn.bokeh.org/bokeh/release/bokeh-2.0.1.min.js\": \"JpP8FXbgAZLkfur7LiK3j9AGBhHNIvF742meBJrjO2ShJDhCG2I1uVvW+0DUtrmc\", \"https://cdn.bokeh.org/bokeh/release/bokeh-widgets-2.0.1.min.js\": \"xZlADit0Q04ISQEdKg2k3L4W9AwQBAuDs9nJL9fM/WwzL1tEU9VPNezOFX0nLEAz\", \"https://cdn.bokeh.org/bokeh/release/bokeh-tables-2.0.1.min.js\": \"4BuPRZkdMKSnj3zoxiNrQ86XgNw0rYmBOxe7nshquXwwcauupgBF2DHLVG1WuZlV\", \"https://cdn.bokeh.org/bokeh/release/bokeh-gl-2.0.1.min.js\": \"Dv1SQ87hmDqK6S5OhBf0bCuwAEvL5QYL0PuR/F1SPVhCS/r/abjkbpKDYL2zeM19\"};\n",
       "\n",
       "    for (var i = 0; i < js_urls.length; i++) {\n",
       "      var url = js_urls[i];\n",
       "      var element = document.createElement('script');\n",
       "      element.onload = on_load;\n",
       "      element.onerror = on_error;\n",
       "      element.async = false;\n",
       "      element.src = url;\n",
       "      if (url in hashes) {\n",
       "        element.crossOrigin = \"anonymous\";\n",
       "        element.integrity = \"sha384-\" + hashes[url];\n",
       "      }\n",
       "      console.debug(\"Bokeh: injecting script tag for BokehJS library: \", url);\n",
       "      document.head.appendChild(element);\n",
       "    }\n",
       "  };\n",
       "\n",
       "  function inject_raw_css(css) {\n",
       "    const element = document.createElement(\"style\");\n",
       "    element.appendChild(document.createTextNode(css));\n",
       "    document.body.appendChild(element);\n",
       "  }\n",
       "\n",
       "  \n",
       "  var js_urls = [\"https://cdn.bokeh.org/bokeh/release/bokeh-2.0.1.min.js\", \"https://cdn.bokeh.org/bokeh/release/bokeh-widgets-2.0.1.min.js\", \"https://cdn.bokeh.org/bokeh/release/bokeh-tables-2.0.1.min.js\", \"https://cdn.bokeh.org/bokeh/release/bokeh-gl-2.0.1.min.js\"];\n",
       "  var css_urls = [];\n",
       "  \n",
       "\n",
       "  var inline_js = [\n",
       "    function(Bokeh) {\n",
       "      Bokeh.set_log_level(\"info\");\n",
       "    },\n",
       "    function(Bokeh) {\n",
       "    \n",
       "    \n",
       "    }\n",
       "  ];\n",
       "\n",
       "  function run_inline_js() {\n",
       "    \n",
       "    if (root.Bokeh !== undefined || force === true) {\n",
       "      \n",
       "    for (var i = 0; i < inline_js.length; i++) {\n",
       "      inline_js[i].call(root, root.Bokeh);\n",
       "    }\n",
       "    } else if (Date.now() < root._bokeh_timeout) {\n",
       "      setTimeout(run_inline_js, 100);\n",
       "    } else if (!root._bokeh_failed_load) {\n",
       "      console.log(\"Bokeh: BokehJS failed to load within specified timeout.\");\n",
       "      root._bokeh_failed_load = true;\n",
       "    } else if (force !== true) {\n",
       "      var cell = $(document.getElementById(null)).parents('.cell').data().cell;\n",
       "      cell.output_area.append_execute_result(NB_LOAD_WARNING)\n",
       "    }\n",
       "\n",
       "  }\n",
       "\n",
       "  if (root._bokeh_is_loading === 0) {\n",
       "    console.debug(\"Bokeh: BokehJS loaded, going straight to plotting\");\n",
       "    run_inline_js();\n",
       "  } else {\n",
       "    load_libs(css_urls, js_urls, function() {\n",
       "      console.debug(\"Bokeh: BokehJS plotting callback run at\", now());\n",
       "      run_inline_js();\n",
       "    });\n",
       "  }\n",
       "}(window));"
      ],
      "application/vnd.bokehjs_load.v0+json": "\n(function(root) {\n  function now() {\n    return new Date();\n  }\n\n  var force = true;\n\n  if (typeof root._bokeh_onload_callbacks === \"undefined\" || force === true) {\n    root._bokeh_onload_callbacks = [];\n    root._bokeh_is_loading = undefined;\n  }\n\n  \n\n  \n  if (typeof (root._bokeh_timeout) === \"undefined\" || force === true) {\n    root._bokeh_timeout = Date.now() + 5000;\n    root._bokeh_failed_load = false;\n  }\n\n  var NB_LOAD_WARNING = {'data': {'text/html':\n     \"<div style='background-color: #fdd'>\\n\"+\n     \"<p>\\n\"+\n     \"BokehJS does not appear to have successfully loaded. If loading BokehJS from CDN, this \\n\"+\n     \"may be due to a slow or bad network connection. Possible fixes:\\n\"+\n     \"</p>\\n\"+\n     \"<ul>\\n\"+\n     \"<li>re-rerun `output_notebook()` to attempt to load from CDN again, or</li>\\n\"+\n     \"<li>use INLINE resources instead, as so:</li>\\n\"+\n     \"</ul>\\n\"+\n     \"<code>\\n\"+\n     \"from bokeh.resources import INLINE\\n\"+\n     \"output_notebook(resources=INLINE)\\n\"+\n     \"</code>\\n\"+\n     \"</div>\"}};\n\n  function display_loaded() {\n    var el = document.getElementById(null);\n    if (el != null) {\n      el.textContent = \"BokehJS is loading...\";\n    }\n    if (root.Bokeh !== undefined) {\n      if (el != null) {\n        el.textContent = \"BokehJS \" + root.Bokeh.version + \" successfully loaded.\";\n      }\n    } else if (Date.now() < root._bokeh_timeout) {\n      setTimeout(display_loaded, 100)\n    }\n  }\n\n\n  function run_callbacks() {\n    try {\n      root._bokeh_onload_callbacks.forEach(function(callback) {\n        if (callback != null)\n          callback();\n      });\n    } finally {\n      delete root._bokeh_onload_callbacks\n    }\n    console.debug(\"Bokeh: all callbacks have finished\");\n  }\n\n  function load_libs(css_urls, js_urls, callback) {\n    if (css_urls == null) css_urls = [];\n    if (js_urls == null) js_urls = [];\n\n    root._bokeh_onload_callbacks.push(callback);\n    if (root._bokeh_is_loading > 0) {\n      console.debug(\"Bokeh: BokehJS is being loaded, scheduling callback at\", now());\n      return null;\n    }\n    if (js_urls == null || js_urls.length === 0) {\n      run_callbacks();\n      return null;\n    }\n    console.debug(\"Bokeh: BokehJS not loaded, scheduling load and callback at\", now());\n    root._bokeh_is_loading = css_urls.length + js_urls.length;\n\n    function on_load() {\n      root._bokeh_is_loading--;\n      if (root._bokeh_is_loading === 0) {\n        console.debug(\"Bokeh: all BokehJS libraries/stylesheets loaded\");\n        run_callbacks()\n      }\n    }\n\n    function on_error() {\n      console.error(\"failed to load \" + url);\n    }\n\n    for (var i = 0; i < css_urls.length; i++) {\n      var url = css_urls[i];\n      const element = document.createElement(\"link\");\n      element.onload = on_load;\n      element.onerror = on_error;\n      element.rel = \"stylesheet\";\n      element.type = \"text/css\";\n      element.href = url;\n      console.debug(\"Bokeh: injecting link tag for BokehJS stylesheet: \", url);\n      document.body.appendChild(element);\n    }\n\n    const hashes = {\"https://cdn.bokeh.org/bokeh/release/bokeh-2.0.1.min.js\": \"JpP8FXbgAZLkfur7LiK3j9AGBhHNIvF742meBJrjO2ShJDhCG2I1uVvW+0DUtrmc\", \"https://cdn.bokeh.org/bokeh/release/bokeh-widgets-2.0.1.min.js\": \"xZlADit0Q04ISQEdKg2k3L4W9AwQBAuDs9nJL9fM/WwzL1tEU9VPNezOFX0nLEAz\", \"https://cdn.bokeh.org/bokeh/release/bokeh-tables-2.0.1.min.js\": \"4BuPRZkdMKSnj3zoxiNrQ86XgNw0rYmBOxe7nshquXwwcauupgBF2DHLVG1WuZlV\", \"https://cdn.bokeh.org/bokeh/release/bokeh-gl-2.0.1.min.js\": \"Dv1SQ87hmDqK6S5OhBf0bCuwAEvL5QYL0PuR/F1SPVhCS/r/abjkbpKDYL2zeM19\"};\n\n    for (var i = 0; i < js_urls.length; i++) {\n      var url = js_urls[i];\n      var element = document.createElement('script');\n      element.onload = on_load;\n      element.onerror = on_error;\n      element.async = false;\n      element.src = url;\n      if (url in hashes) {\n        element.crossOrigin = \"anonymous\";\n        element.integrity = \"sha384-\" + hashes[url];\n      }\n      console.debug(\"Bokeh: injecting script tag for BokehJS library: \", url);\n      document.head.appendChild(element);\n    }\n  };\n\n  function inject_raw_css(css) {\n    const element = document.createElement(\"style\");\n    element.appendChild(document.createTextNode(css));\n    document.body.appendChild(element);\n  }\n\n  \n  var js_urls = [\"https://cdn.bokeh.org/bokeh/release/bokeh-2.0.1.min.js\", \"https://cdn.bokeh.org/bokeh/release/bokeh-widgets-2.0.1.min.js\", \"https://cdn.bokeh.org/bokeh/release/bokeh-tables-2.0.1.min.js\", \"https://cdn.bokeh.org/bokeh/release/bokeh-gl-2.0.1.min.js\"];\n  var css_urls = [];\n  \n\n  var inline_js = [\n    function(Bokeh) {\n      Bokeh.set_log_level(\"info\");\n    },\n    function(Bokeh) {\n    \n    \n    }\n  ];\n\n  function run_inline_js() {\n    \n    if (root.Bokeh !== undefined || force === true) {\n      \n    for (var i = 0; i < inline_js.length; i++) {\n      inline_js[i].call(root, root.Bokeh);\n    }\n    } else if (Date.now() < root._bokeh_timeout) {\n      setTimeout(run_inline_js, 100);\n    } else if (!root._bokeh_failed_load) {\n      console.log(\"Bokeh: BokehJS failed to load within specified timeout.\");\n      root._bokeh_failed_load = true;\n    } else if (force !== true) {\n      var cell = $(document.getElementById(null)).parents('.cell').data().cell;\n      cell.output_area.append_execute_result(NB_LOAD_WARNING)\n    }\n\n  }\n\n  if (root._bokeh_is_loading === 0) {\n    console.debug(\"Bokeh: BokehJS loaded, going straight to plotting\");\n    run_inline_js();\n  } else {\n    load_libs(css_urls, js_urls, function() {\n      console.debug(\"Bokeh: BokehJS plotting callback run at\", now());\n      run_inline_js();\n    });\n  }\n}(window));"
     },
     "metadata": {},
     "output_type": "display_data"
    }
   ],
   "source": [
    "# Import packages\n",
    "import math\n",
    "import scipy.stats as stats\n",
    "import numpy as np\n",
    "import pandas as pd\n",
    "\n",
    "# Set display option for floats in Pandas\n",
    "pd.set_option('display.float_format', lambda x: '%.2f' % x)\n",
    "\n",
    "%matplotlib inline\n",
    "import matplotlib.pyplot as plt\n",
    "\n",
    "import seaborn as sns\n",
    "sns.set_style(\"ticks\")\n",
    "sns.set(color_codes=True, font_scale=1.25)\n",
    "\n",
    "from bokeh.plotting import figure, show\n",
    "from bokeh.io import output_notebook\n",
    "from bokeh.tile_providers import CARTODBPOSITRON, get_provider\n",
    "from bokeh.models import ColumnDataSource, HoverTool\n",
    "\n",
    "# Setup Bokeh to output directly to the notebook\n",
    "output_notebook(resources=None, verbose=False, hide_banner=True, load_timeout=5000, notebook_type='jupyter')"
   ]
  },
  {
   "cell_type": "code",
   "execution_count": 14,
   "metadata": {
    "scrolled": true
   },
   "outputs": [
    {
     "name": "stdout",
     "output_type": "stream",
     "text": [
      "Rental data - rows, columns:(1037712, 15)\n",
      "Weather data - rows, columns:(31, 2)\n"
     ]
    }
   ],
   "source": [
    "# Read in the rentals data and review\n",
    "df = pd.read_csv('../data/bike_rental_data.csv')\n",
    "print(\"Rental data - rows, columns:\" + str(df.shape))\n",
    "\n",
    "# Read in the weather data and review\n",
    "cols = ['DATE', 'TMAX'] \n",
    "df2 = pd.read_csv('../data/oct2013_weather.csv', usecols=cols)\n",
    "print(\"Weather data - rows, columns:\" + str(df2.shape))"
   ]
  },
  {
   "cell_type": "code",
   "execution_count": 3,
   "metadata": {
    "scrolled": false
   },
   "outputs": [
    {
     "data": {
      "text/html": [
       "<div>\n",
       "<style scoped>\n",
       "    .dataframe tbody tr th:only-of-type {\n",
       "        vertical-align: middle;\n",
       "    }\n",
       "\n",
       "    .dataframe tbody tr th {\n",
       "        vertical-align: top;\n",
       "    }\n",
       "\n",
       "    .dataframe thead th {\n",
       "        text-align: right;\n",
       "    }\n",
       "</style>\n",
       "<table border=\"1\" class=\"dataframe\">\n",
       "  <thead>\n",
       "    <tr style=\"text-align: right;\">\n",
       "      <th></th>\n",
       "      <th>tripduration</th>\n",
       "      <th>starttime</th>\n",
       "      <th>stoptime</th>\n",
       "      <th>start station id</th>\n",
       "      <th>start station name</th>\n",
       "      <th>start station latitude</th>\n",
       "      <th>start station longitude</th>\n",
       "      <th>end station id</th>\n",
       "      <th>end station name</th>\n",
       "      <th>end station latitude</th>\n",
       "      <th>end station longitude</th>\n",
       "      <th>bikeid</th>\n",
       "      <th>usertype</th>\n",
       "      <th>birth year</th>\n",
       "      <th>gender</th>\n",
       "    </tr>\n",
       "  </thead>\n",
       "  <tbody>\n",
       "    <tr>\n",
       "      <th>0</th>\n",
       "      <td>326</td>\n",
       "      <td>2013-10-01 00:01:08</td>\n",
       "      <td>2013-10-01 00:06:34</td>\n",
       "      <td>239</td>\n",
       "      <td>Willoughby St &amp; Fleet St</td>\n",
       "      <td>40.69</td>\n",
       "      <td>-73.98</td>\n",
       "      <td>366</td>\n",
       "      <td>Clinton Ave &amp; Myrtle Ave</td>\n",
       "      <td>40.69</td>\n",
       "      <td>-73.97</td>\n",
       "      <td>16052</td>\n",
       "      <td>Subscriber</td>\n",
       "      <td>1982</td>\n",
       "      <td>1</td>\n",
       "    </tr>\n",
       "  </tbody>\n",
       "</table>\n",
       "</div>"
      ],
      "text/plain": [
       "   tripduration            starttime             stoptime  start station id  \\\n",
       "0           326  2013-10-01 00:01:08  2013-10-01 00:06:34               239   \n",
       "\n",
       "         start station name  start station latitude  start station longitude  \\\n",
       "0  Willoughby St & Fleet St                   40.69                   -73.98   \n",
       "\n",
       "   end station id          end station name  end station latitude  \\\n",
       "0             366  Clinton Ave & Myrtle Ave                 40.69   \n",
       "\n",
       "   end station longitude  bikeid    usertype birth year  gender  \n",
       "0                 -73.97   16052  Subscriber       1982       1  "
      ]
     },
     "execution_count": 3,
     "metadata": {},
     "output_type": "execute_result"
    }
   ],
   "source": [
    "# Preview the rentals data\n",
    "df.head(1)"
   ]
  },
  {
   "cell_type": "markdown",
   "metadata": {},
   "source": [
    "## 2. Data Cleanup and Analysis Prep\n",
    "\n",
    "Now that we have our data in a dataframe and have an idea of what it looks like, let's spend some time on cleanup before moving into the analysis.\n",
    "\n",
    "\n",
    "### Rename the columns\n",
    "\n",
    "Next, let's move on to updating the column names. For this project we'll be accessing columns using the format of *df.column* so we'll need to remove spaces to facilitate this."
   ]
  },
  {
   "cell_type": "code",
   "execution_count": 4,
   "metadata": {},
   "outputs": [
    {
     "data": {
      "text/plain": [
       "Index(['tripduration', 'starttime', 'stoptime', 'start_station_id',\n",
       "       'start_station_name', 'start_station_latitude',\n",
       "       'start_station_longitude', 'end_station_id', 'end_station_name',\n",
       "       'end_station_latitude', 'end_station_longitude', 'bikeid', 'usertype',\n",
       "       'birth_year', 'gender'],\n",
       "      dtype='object')"
      ]
     },
     "execution_count": 4,
     "metadata": {},
     "output_type": "execute_result"
    }
   ],
   "source": [
    "# Rename columns to remove spaces\n",
    "cols = []\n",
    "for col in df.columns.to_list():\n",
    "    col = col.replace(' ','_')\n",
    "    cols.append(col)\n",
    "df.columns = cols\n",
    "df.columns"
   ]
  },
  {
   "cell_type": "markdown",
   "metadata": {},
   "source": [
    "### Review & Cleanup Duration Data\n",
    "\n",
    "Based on the data dictionary above, we can see that the duration data is in seconds. While this is great for precision, it's probably overkill for the type of general analysis we'll do in this project. \n",
    "\n",
    "In addition, converting to minutes will help improve the readability of the plots we produce later on since people have pretty good intuition about time values in minutes, but struggle with making the conversion from seconds to minutes on their own.\n",
    "\n",
    "After we make the conversion, we can take a quick look at some basic statistics for the data.\n",
    "\n",
    "#### Convert duration to minutes"
   ]
  },
  {
   "cell_type": "code",
   "execution_count": 5,
   "metadata": {},
   "outputs": [],
   "source": [
    "# Update the tripduration column to minutes, rounded to the nearest minute\n",
    "df['tripduration'] = round((df.tripduration / 60),0).astype(int)"
   ]
  },
  {
   "cell_type": "code",
   "execution_count": 6,
   "metadata": {},
   "outputs": [
    {
     "data": {
      "text/plain": [
       "count   1037712.00\n",
       "mean         13.76\n",
       "std          33.34\n",
       "min           1.00\n",
       "25%           7.00\n",
       "50%          10.00\n",
       "75%          17.00\n",
       "max       20991.00\n",
       "Name: tripduration, dtype: float64"
      ]
     },
     "execution_count": 6,
     "metadata": {},
     "output_type": "execute_result"
    }
   ],
   "source": [
    "df.tripduration.describe()"
   ]
  },
  {
   "cell_type": "code",
   "execution_count": 7,
   "metadata": {},
   "outputs": [
    {
     "data": {
      "text/plain": [
       "10763"
      ]
     },
     "execution_count": 7,
     "metadata": {},
     "output_type": "execute_result"
    }
   ],
   "source": [
    "df[df.tripduration > 50].tripduration.count()"
   ]
  },
  {
   "cell_type": "markdown",
   "metadata": {},
   "source": [
    "#### Review and adjust duration data range\n",
    "\n",
    "Looking at the statistics above, our data appears to be skewed on the high end, with 75% of trips coming in at 17 min or less and a maximum trip duration of nearly 21000 minutes! While this is an impressive feat of bike riding, it will probably continue to skew our analysis if we don't remove some of the outliers on the higher end. \n",
    "\n",
    "Based on the above, it looks like trips over 50 min only account for a little over 1% of our 1 million rows. We should be able to safely remove these to get a more representative sample of the data. Let's filter out the rows with durations over 50 and then take another look at the distribution."
   ]
  },
  {
   "cell_type": "code",
   "execution_count": 12,
   "metadata": {},
   "outputs": [
    {
     "data": {
      "image/png": "[encoded data removed]",
      "text/plain": [
       "<Figure size 432x288 with 1 Axes>"
      ]
     },
     "metadata": {},
     "output_type": "display_data"
    }
   ],
   "source": [
    "# Remove outlier trips with above 50 min\n",
    "df = df[df.tripduration <= 50]\n",
    "\n",
    "# And now to plot duration on a histogram using the adjusted df\n",
    "plt.hist(df.tripduration, bins=50, range=(1,50), color='#1E88E5')\n",
    "plt.title('Rental Durations (min)');"
   ]
  },
  {
   "cell_type": "code",
   "execution_count": null,
   "metadata": {
    "scrolled": true
   },
   "outputs": [],
   "source": [
    "# And to review our duration stats again\n",
    "df.tripduration.describe()"
   ]
  },
  {
   "cell_type": "markdown",
   "metadata": {},
   "source": [
    "#### Summary\n",
    "\n",
    "Looking at the result, the standard deviation is now much more reasonable when compared to the mean. After removing the outlier trips, we can see that the average trip is just over 12 min min length and our row count is still at 1026949 as compared to 1037712. So we managed to preserve 98.96% of our data in the process."
   ]
  },
  {
   "cell_type": "markdown",
   "metadata": {},
   "source": [
    "### Clean up the date columns\n",
    "\n",
    "Our data set includes 2 columns containing datetime information, but the data is stored in str format. Let's start by converting these columns to datetime format. Then, following this conversion, we'll extract some additional date related info to aid us in our analysis later on. \n",
    "\n",
    "To do this, we will create 3 new columns:\n",
    "\n",
    "- **hour** - Extract hour of the day as int (i.e, 0 - 23, 0 = Midnight)\n",
    "- **dow** - Extract day of the week as int (i.e., 0 = Monday, 6 = Sunday)\n",
    "- **date** - Extract the date (e.g., '2013-10-01')"
   ]
  },
  {
   "cell_type": "code",
   "execution_count": null,
   "metadata": {},
   "outputs": [],
   "source": [
    "# Convert start_date and end_date to datetime format\n",
    "df.starttime = pd.to_datetime(df.starttime, infer_datetime_format=True)\n",
    "df.stoptime = pd.to_datetime(df.stoptime, infer_datetime_format=True)\n",
    "\n",
    "# Create new columns for hour, day of week and date of rental\n",
    "df[\"hour\"] = df.starttime.dt.hour\n",
    "df[\"dow\"] = df.starttime.dt.dayofweek\n",
    "df['date'] = df['starttime'].dt.date"
   ]
  },
  {
   "cell_type": "markdown",
   "metadata": {},
   "source": [
    "### Merge in the weather data\n",
    "\n",
    "TBD"
   ]
  },
  {
   "cell_type": "code",
   "execution_count": null,
   "metadata": {},
   "outputs": [],
   "source": [
    "# Create a dictionary mapping high temp to date\n",
    "temps = df2.set_index('DATE').to_dict()['TMAX']\n",
    "\n",
    "# Create a temporary column to assist with mapping in temperature data\n",
    "df['str_date'] = df.date.apply(lambda x: x.strftime('%Y-%m-%d'))\n",
    "\n",
    "# Create a new column for temperature and map in the values\n",
    "df['temp'] = df['str_date'].map(temps)"
   ]
  },
  {
   "cell_type": "markdown",
   "metadata": {},
   "source": [
    "### Convert coordinate data\n",
    "\n",
    "TBD\n",
    "Universal Transverse Mercator coordinate system\n",
    "https://en.wikipedia.org/wiki/Universal_Transverse_Mercator_coordinate_system"
   ]
  },
  {
   "cell_type": "code",
   "execution_count": null,
   "metadata": {},
   "outputs": [],
   "source": [
    "# Combine lat and lon into a tuple for processing\n",
    "df['start_location'] = list(zip(df['start_station_latitude'], df['start_station_longitude']))\n",
    "df['end_location'] = list(zip(df['end_station_latitude'], df['end_station_longitude']))\n",
    "\n",
    "# Function to convert lat, long to mercator (adapted from Colin Patrick Reid, Towards Data Science)\n",
    "def merc(location):\n",
    "    lat = location[0]\n",
    "    lon = location[1]    \n",
    "    r_major = 6378137.000\n",
    "    x = r_major * math.radians(lon)\n",
    "    scale = x/lon\n",
    "    y = 180.0/math.pi * math.log(math.tan(math.pi/4.0 + \n",
    "        lat * (math.pi/180.0)/2.0)) * scale\n",
    "    return (x, y)\n",
    "\n",
    "# Convert lat, lon to Mercator coordinates\n",
    "df['start_coords_x'] = df['start_location'].apply(lambda x: merc(x)[0])\n",
    "df['start_coords_y'] = df['start_location'].apply(lambda x: merc(x)[1])\n",
    "df['end_coords_x'] = df['end_location'].apply(lambda x: merc(x)[0])\n",
    "df['end_coords_y'] = df['end_location'].apply(lambda x: merc(x)[1])"
   ]
  },
  {
   "cell_type": "markdown",
   "metadata": {},
   "source": [
    "### Drop unnecessary columns\n",
    "\n",
    "The last step before we begin is to remove any columns that are unnecessary for our behavior analysis.\n",
    "\n",
    "- **start_station_id** - Using 'start_station_name' to reference stations\n",
    "- **end_station_id** - Using 'end_station_name' to reference stations\n",
    "- **starttime** - Replaced by more specific date columns\n",
    "- **stoptime** - Replaced by more specific date columns\n",
    "- **start_station_latitude** - Replaced by 'start_location' and 'start_coords_x'\n",
    "- **start_station_longitude** - Replaced by 'start_location' and 'start_coords_y'\n",
    "- **end_station_latitude** - Replaced by 'end_location' and 'end_coords_x'\n",
    "- **end_station_longitude** - Replaced by 'end_location' and 'end_coords_y'\n",
    "- **str_date** - Temporary column used for mapping in weather values\n",
    "- **bikeid** - Assuming bikes are chosen at random, bikeid won't be relevant for this analysis\n",
    "- **gender** - Gender isn't tracked for casual customers, so it won't be useful to us in this analysis\n",
    "- **birth year** - Similar to gender, birth year is also not tracked for casual customers"
   ]
  },
  {
   "cell_type": "code",
   "execution_count": null,
   "metadata": {},
   "outputs": [],
   "source": [
    "# Drop unnecessary columns\n",
    "df = df.drop(['start_station_id', 'end_station_id', 'starttime', 'stoptime', 'start_station_latitude',\n",
    "'start_station_longitude', 'end_station_latitude', 'end_station_longitude', 'str_date', 'bikeid',\n",
    "'gender', 'birth_year'], axis=1) "
   ]
  },
  {
   "cell_type": "markdown",
   "metadata": {},
   "source": [
    "\n",
    "## 3. Customer Behavior Analysis\n",
    "\n",
    "Now that we have our data cleaned up and ready to go, we can start working through our list of questions to get a better understanding of the differences between our two user types. \n"
   ]
  },
  {
   "cell_type": "markdown",
   "metadata": {},
   "source": [
    "\n",
    "### Overview\n",
    "\n",
    "First, let's get a high level view of a couple of our key metrics - rental count and average rental duration - and see how this breaks down between our user types."
   ]
  },
  {
   "cell_type": "code",
   "execution_count": null,
   "metadata": {},
   "outputs": [],
   "source": [
    "# Create new \"count\" column to aid in aggregation\n",
    "df['count'] = 1\n",
    "\n",
    "# Determine average duration for subscriber vs. customer\n",
    "df.pivot_table(index=[\"usertype\"], values=[\"count\",\"tripduration\"],\\\n",
    "               aggfunc={\"count\": np.sum,\"tripduration\": np.mean}).\\\n",
    "               sort_values(\"tripduration\", ascending=False)"
   ]
  },
  {
   "cell_type": "markdown",
   "metadata": {},
   "source": [
    "\n",
    "### Average rental count by hour of the day\n",
    "\n",
    "In the summary above, we can see that it looks like subscribers rent bikes at a rate of about 10x more than casual customers. However, Customer rentals last nearly twice as long on average.  \n",
    "\n",
    "Next, let's drill into rental count by hour of the day to see if there are any interesting patterns in behavior between the two groups."
   ]
  },
  {
   "cell_type": "code",
   "execution_count": null,
   "metadata": {},
   "outputs": [],
   "source": [
    "# The y values are the unique list of hours\n",
    "hours = df.hour.unique().tolist()\n",
    "\n",
    "# The x values are the sum of the count for each hour of the day\n",
    "sub_rentals_per_hour = df[df.usertype == 'Subscriber'].groupby(['hour']).hour.count()\n",
    "x_values_sub = sub_rentals_per_hour.tolist()\n",
    "cus_rentals_per_hour = df[df.usertype == 'Customer'].groupby(['hour']).hour.count()\n",
    "x_values_cus = cus_rentals_per_hour.tolist()\n",
    "\n",
    "# Plot rentals based on the hour of the day\n",
    "width = 0.75 # width of the bars \n",
    "ind = np.arange(len(sub_rentals_per_hour))  # the x locations for the groups\n",
    "plt.figure(figsize=(20,15))\n",
    "\n",
    "# Plot the data for subscribers and customers\n",
    "plt.barh(ind, x_values_sub, width, color='#1E88E5', label='Subscribers')\n",
    "plt.barh(ind, x_values_cus, width, color='#FFC107', label='Customers')\n",
    "\n",
    "# Generate friendly labels\n",
    "ylabels = ['12:00 AM', '1:00 AM', '2:00 AM', '3:00 AM', '4:00 AM', '5:00 AM', '6:00 AM', '7:00 AM',\\\n",
    "           '8:00 AM', '9:00 AM', '10:00 AM', '11:00 AM', '12:00 PM', '1:00 PM', '2:00 PM', '3:00 PM',\\\n",
    "           '4:00 PM', '5:00 PM', '6:00 PM', '7:00 PM', '8:00 PM', '9:00 PM', '10:00 PM', '11:00 PM']\n",
    "\n",
    "# Additional formatting\n",
    "plt.yticks(ind+width/24, labels=ylabels)\n",
    "plt.title('Total Rental Count by Hour, Subscribers vs. Customers')     \n",
    "plt.gca().invert_yaxis() # account for default reversal of the y axis values\n",
    "plt.legend(loc='upper right');\n",
    "\n",
    "plt.show()"
   ]
  },
  {
   "cell_type": "markdown",
   "metadata": {},
   "source": [
    "\n",
    "Subscriber rentals tend to spike around peak commute hours, between 7:00-10:00 AM and 4:00-7:00 PM. In contrast, rentals by casual customers follow more of a normal distribution throughout the day plateauing between the hours of 1:00 PM and 6:00 PM. \n"
   ]
  },
  {
   "cell_type": "markdown",
   "metadata": {},
   "source": [
    "\n",
    "### Average rental count by day of week\n",
    "\n",
    "Next, let's compare rental counts by day of the week to see if any weekly trends are apparent. To do this, we'll stick with a similar output format for consistency."
   ]
  },
  {
   "cell_type": "code",
   "execution_count": null,
   "metadata": {},
   "outputs": [],
   "source": [
    "# The y values are the unique list of hours\n",
    "days = df.dow.unique().tolist()\n",
    "\n",
    "# The x values are the sum of the count for each hour of the day\n",
    "sub_rentals_per_day = df[df.usertype == 'Subscriber'].groupby(['dow']).dow.count()\n",
    "x_values_sub = sub_rentals_per_day.tolist()\n",
    "cus_rentals_per_day = df[df.usertype == 'Customer'].groupby(['dow']).dow.count()\n",
    "x_values_cus = cus_rentals_per_day.tolist()\n",
    "\n",
    "# Plot rentals based on the day of the week\n",
    "width = 0.75 # width of the bars \n",
    "ind = np.arange(len(sub_rentals_per_day))  # the x locations for the groups\n",
    "plt.figure(figsize=(20,4))\n",
    "\n",
    "# Plot the data for subscribers and customers\n",
    "plt.barh(ind, x_values_sub, width, color='#1E88E5', label='Subscribers')\n",
    "plt.barh(ind, x_values_cus, width, color='#FFC107', label='Customers')\n",
    "\n",
    "# Generate friendly labels\n",
    "ylabels = ['Monday', 'Tuesday', 'Wednesday', 'Thursday', 'Friday', 'Saturday', 'Sunday']\n",
    "\n",
    "# Additional formatting\n",
    "plt.yticks(ind+width/7, labels=ylabels)\n",
    "plt.title('Rental Count by Day of Week, Subscribers vs. Customers')     \n",
    "plt.gca().invert_yaxis() # account for default reversal of the y axis values\n",
    "plt.legend(loc='lower right');\n",
    "\n",
    "plt.show()"
   ]
  },
  {
   "cell_type": "markdown",
   "metadata": {},
   "source": [
    "\n",
    "Again, we see opposite behavior patterns between subscribers and customers in this view. For subscribers, rental counts are higher on weekdays as compared to weekends. Monday and Friday are not as high as Tuesday through Thursday, but this could likely be attributed to more people taking these days off or working from home.\n",
    "\n",
    "For customers, we see similar counts Monday through Friday with a peak over the weekend days."
   ]
  },
  {
   "cell_type": "markdown",
   "metadata": {},
   "source": [
    "\n",
    "### Rentals per day over time\n",
    "\n",
    "As a next step in our analysis, let's take a look at the rental count data over time to see if this backs up our initial assertions above regarding behavioral differences between customers and subscribers."
   ]
  },
  {
   "cell_type": "code",
   "execution_count": null,
   "metadata": {},
   "outputs": [],
   "source": [
    "###\n",
    "# TODO\n",
    "# 1. Figure out how to label the weekend bars and determine if adjustment is needed to placement\n",
    "# 2. Adjust labels on x-axis to show all 31 days\n",
    "###\n",
    "\n",
    "# The x values are the unique list of dates (2013-10-1 - 2013-10-31)\n",
    "x_values = df.date.unique().tolist()\n",
    "\n",
    "# The y values are the rental counts for each user type\n",
    "y_values_sub = df[df['usertype'] == 'Subscriber'].groupby(['date']).usertype.count()\n",
    "y_values_cus = df[df['usertype'] == 'Customer'].groupby(['date']).usertype.count()\n",
    "\n",
    "# Create the figure and plot the lines for each user type\n",
    "plt.figure(figsize=(20,10))\n",
    "g = sns.lineplot(x_values, y_values_sub, color='#1E88E5', label='Subscribers')\n",
    "sns.lineplot(x_values, y_values_cus, color='#FFC107', label='Customers')\n",
    "\n",
    "# Plot horizontal lines to show the average daily rental count for each group\n",
    "plt.axhline(y_values_sub.mean(), color='#1E88E5', linestyle='dashed', linewidth=2, label='Subscriber Avg')\n",
    "plt.axhline(y_values_cus.mean(), color='#FFC107', linestyle='dashed', linewidth=2, label='Customer Avg')\n",
    "\n",
    "# Create a list of weekend dates\n",
    "weekends = []\n",
    "for date in x_values:\n",
    "    if date.weekday() >= 5:\n",
    "        weekends.append(date)\n",
    "\n",
    "# Plot a vertical gray bar to designate weekend days\n",
    "for date in weekends:\n",
    "    plt.axvline(date, color='gray', alpha=0.2, linewidth=37) # linewidth based on trial and error\n",
    "\n",
    "# Add limits, labels and title\n",
    "g.set_xticks(range(1,32,1))\n",
    "g.set_xticklabels = [item.day for item in x_values]\n",
    "g.set_xlim(df.date.min(), df.date.max())\n",
    "g.set(xlabel=None, ylabel=None,\n",
    "      title='Rental Count Per Day - Customer vs. Subscriber')\n",
    "g.legend(loc='upper right', bbox_to_anchor=(1.15, 1.0), ncol=1);"
   ]
  },
  {
   "cell_type": "markdown",
   "metadata": {},
   "source": [
    "\n",
    "### Rental duration\n",
    "\n",
    "Next on our list is to take a look at rental duration between our two customer groups. Based on our quick analysis at the start, we know the average rental duration is twice as high for casual customers as it is for subscribers, but let's take a closer look at the distribution of rental durations for each group.\n"
   ]
  },
  {
   "cell_type": "code",
   "execution_count": null,
   "metadata": {
    "scrolled": false
   },
   "outputs": [],
   "source": [
    "# Plot a histogram of avg rental duration for customers vs. subscribers\n",
    "x_cus = df[df['usertype'] == 'Customer'].tripduration\n",
    "x_sub = df[df['usertype'] == 'Subscriber'].tripduration\n",
    "\n",
    "plt.figure(figsize=(20,10))\n",
    "\n",
    "# plot histogram for each type\n",
    "plt.hist(x_sub, bins=50, range=(1,50), color='#1E88E5', alpha=0.9, label='Subscribers')\n",
    "plt.hist(x_cus, bins=50, range=(1,50), color='#FFC107', alpha=0.7, label='Customers')\n",
    "\n",
    "# plot the average for each type\n",
    "plt.axvline(x_sub.mean(), color='#1E88E5', linestyle='dashed', linewidth=2, label='Subscriber Avg Duration')\n",
    "plt.axvline(x_cus.mean(), color='#FFC107', linestyle='dashed', linewidth=2, label='Customer Avg Duration')\n",
    "\n",
    "# Formatting and Labels\n",
    "plt.xlabel(\"Rental Duration\")\n",
    "plt.ylabel(\"Count\")\n",
    "plt.title('Rental Duration - Customer vs. Subscriber')\n",
    "plt.legend(loc='upper right', bbox_to_anchor=(1.2, 1), ncol=1);"
   ]
  },
  {
   "cell_type": "markdown",
   "metadata": {},
   "source": [
    "TODO - FINISH WRITING UP CONCLUSIONS\n",
    "\n",
    "Based on the data for this single month, it looks like we can start to draw some tentative conclusions.\n",
    "\n",
    "1. Subscribers are much more likely to rent bikes in general (TODO - add avg rental count per day)\n",
    "2. Customers rent bikes for nearly twice as long on average (19 min as compared to 12 min for subscribers)\n",
    "3. Subscriber rentals peak on weekdays (in particular Tuesday - Thursday) and Customer rentals peak on weekends.\n",
    "\n",
    "Assuming subscribers are paying some sort of monthly subscription fee in addition to a per min rate, it would appear that the best way to increase revenue for the program would be to increase the number of subscribers. Although, without exact numbers for the program, this is a tough conclusion to make. \n",
    "\n",
    "If subscribers pay a monthly fee that **includes** a specified amount of minutes, this could explain why the average duration is lower for subscribers who may not want to exceed their monthly allocation. In contrast, as a one-off customer, it is likely a bigger decision to rent a bike to begin with and it's reasonable to think that these rentals occur most frequently when a person has a long distance to travel - i.e., a distance so long that they would prefer to ride than walk."
   ]
  },
  {
   "cell_type": "markdown",
   "metadata": {},
   "source": [
    "## 4. Station Popularity\n",
    "\n",
    "### Which stations are the most popular for renting a bike?\n",
    "\n",
    "TODOs\n",
    "- Add introduction\n",
    "- Add summary of findings\n",
    "- Fix map popup formatting to be a min width and also to include name and count"
   ]
  },
  {
   "cell_type": "code",
   "execution_count": null,
   "metadata": {},
   "outputs": [],
   "source": [
    "# Helper functions for plotting Bokeh maps\n",
    "def createMap(hover, title):\n",
    "    tile_provider = get_provider(CARTODBPOSITRON)\n",
    "    p = figure(plot_width=800, plot_height=600, x_range=(-8235000, -8238000), y_range=(4966000, 4979000),\n",
    "               x_axis_type=\"mercator\", y_axis_type=\"mercator\", tools=['pan', hover, 'wheel_zoom'])\n",
    "    p.title.text=title\n",
    "    p.title.align=\"center\"\n",
    "    p.title.text_font_size = \"16px\"\n",
    "    p.add_tile(tile_provider)\n",
    "    p.axis.visible=False\n",
    "    return p\n",
    "\n",
    "\n",
    "def createCDS(df, x, y, value_label, value_col, name_col):\n",
    "    cds = ColumnDataSource(data=dict(\n",
    "                        x=list(df[x]), \n",
    "                        y=list(df[y]),\n",
    "                        rentals=list(df[value_col]),\n",
    "#                         sizes=list(df[value_col]/500),\n",
    "                        stationname=list(df[name_col]),\n",
    "                        usertype=list(df['usertype'])))\n",
    "    hover = HoverTool(tooltips=[\n",
    "    (\"Station\", \"@stationname\"),\n",
    "    (value_label,\"@rentals\"),\n",
    "    (\"Type\",\"@usertype\")\n",
    "    ])\n",
    "    return cds, hover\n",
    "\n",
    "\n",
    "def plotMarkers(cds, color, label):\n",
    "    p.circle(x='x',\n",
    "         y='y',\n",
    "         source=cds,\n",
    "         size=10,\n",
    "         line_color=color,\n",
    "         line_width=3,\n",
    "         fill_color=color,\n",
    "         fill_alpha=0.2,\n",
    "         legend_label=label)\n",
    "\n",
    "    \n",
    "def addLegend(map):\n",
    "    p.legend.location = \"top_right\"\n",
    "    p.legend.click_policy=\"hide\""
   ]
  },
  {
   "cell_type": "code",
   "execution_count": null,
   "metadata": {},
   "outputs": [],
   "source": [
    "# Create new dfs for popular start stations by user_type\n",
    "sub_start_stations = df[df.usertype == 'Subscriber'].pivot_table(index=['usertype','start_station_name',\\\n",
    "                               'start_coords_x', 'start_coords_y'], values='count', aggfunc=np.sum).\\\n",
    "                               sort_values(\"count\", ascending=False).reset_index().head(10)\n",
    "\n",
    "cus_start_stations = df[df.usertype == 'Customer'].pivot_table(index=['usertype', 'start_station_name',\\\n",
    "                               'start_coords_x', 'start_coords_y'], values='count', aggfunc=np.sum).\\\n",
    "                               sort_values(\"count\", ascending=False).reset_index().head(10)\n",
    "\n",
    "# Top 10 start stations by user type\n",
    "pd.concat([sub_start_stations[['usertype','start_station_name','count']],\\\n",
    "           cus_start_stations[['usertype','start_station_name','count']]], axis=1)"
   ]
  },
  {
   "cell_type": "code",
   "execution_count": null,
   "metadata": {},
   "outputs": [],
   "source": [
    "# Utilize helper functions to plot the map \n",
    "cds_sub, hover_sub = createCDS(sub_start_stations, 'start_coords_x', 'start_coords_y',\n",
    "                               'Rentals', 'count', 'start_station_name') \n",
    "cds_cus, hover_cus = createCDS(cus_start_stations, 'start_coords_x', 'start_coords_y',\n",
    "                               'Rentals', 'count', 'start_station_name') \n",
    "\n",
    "p = createMap(hover_sub, 'Most Popular Rental Starting Locations by User Type')\n",
    "\n",
    "sub_markers = plotMarkers(cds_sub, '#1E88E5', 'Subscriber')\n",
    "cus_markers = plotMarkers(cds_cus, '#FFC107', 'Customer')\n",
    "\n",
    "addLegend(p)\n",
    "\n",
    "show(p)"
   ]
  },
  {
   "cell_type": "markdown",
   "metadata": {},
   "source": [
    "\n",
    "### Which stations are the popular places for rental returns?\n"
   ]
  },
  {
   "cell_type": "code",
   "execution_count": null,
   "metadata": {},
   "outputs": [],
   "source": [
    "# Create new dfs for popular end stations by user_type\n",
    "sub_end_stations = df[df.usertype == 'Subscriber'].pivot_table(index=['usertype','end_station_name',\\\n",
    "                               'end_coords_x', 'end_coords_y'], values='count', aggfunc=np.sum).\\\n",
    "                               sort_values(\"count\", ascending=False).reset_index().head(10)\n",
    "\n",
    "cus_end_stations = df[df.usertype == 'Customer'].pivot_table(index=['usertype','end_station_name',\\\n",
    "                               'end_coords_x', 'end_coords_y'], values='count', aggfunc=np.sum).\\\n",
    "                               sort_values(\"count\", ascending=False).reset_index().head(10)\n",
    "\n",
    "# Top 10 end stations by user type\n",
    "pd.concat([sub_end_stations[['usertype','end_station_name','count']],\\\n",
    "           cus_end_stations[['usertype','end_station_name','count']]], axis=1)"
   ]
  },
  {
   "cell_type": "code",
   "execution_count": null,
   "metadata": {},
   "outputs": [],
   "source": [
    "# Utilize helper functions to plot the map \n",
    "cds_sub, hover_sub = createCDS(sub_end_stations, 'end_coords_x', 'end_coords_y', 'Rentals', 'count', 'end_station_name') \n",
    "cds_cus, hover_cus = createCDS(cus_end_stations, 'end_coords_x', 'end_coords_y', 'Rentals', 'count', 'end_station_name') \n",
    "\n",
    "p = createMap(hover_sub, 'Most Popular Rental Ending Locations by User Type')\n",
    "\n",
    "sub_markers = plotMarkers(cds_sub, '#1E88E5', 'Subscriber')\n",
    "cus_markers = plotMarkers(cds_cus, '#FFC107', 'Customer')\n",
    "\n",
    "addLegend(p)\n",
    "\n",
    "show(p)"
   ]
  },
  {
   "cell_type": "markdown",
   "metadata": {},
   "source": [
    "\n",
    "### Which  stations have the longest lasting rental durations on average?\n"
   ]
  },
  {
   "cell_type": "code",
   "execution_count": null,
   "metadata": {},
   "outputs": [],
   "source": [
    "# Create new dfs for popular start stations by user_type\n",
    "sub_start_top_dur = df[df.usertype == 'Subscriber'].pivot_table(index=['usertype','start_station_name',\\\n",
    "                               'start_coords_x', 'start_coords_y'], values='tripduration', aggfunc=np.mean).\\\n",
    "                               sort_values('tripduration', ascending=False).reset_index().head(10)\n",
    "cus_start_top_dur = df[df.usertype == 'Customer'].pivot_table(index=['usertype', 'start_station_name',\\\n",
    "                               'start_coords_x', 'start_coords_y'], values='tripduration', aggfunc=np.mean).\\\n",
    "                               sort_values('tripduration', ascending=False).reset_index().head(10)\n",
    "\n",
    "# Top 10 start stations by user type\n",
    "pd.concat([sub_start_top_dur[['usertype','start_station_name','tripduration']],\\\n",
    "           cus_start_top_dur[['usertype','start_station_name','tripduration']]], axis=1)"
   ]
  },
  {
   "cell_type": "code",
   "execution_count": null,
   "metadata": {},
   "outputs": [],
   "source": [
    "# Utilize helper functions to plot the map \n",
    "cds_sub, hover_sub = createCDS(sub_start_top_dur, 'start_coords_x', 'start_coords_y',\n",
    "                               'Avg. Duration', 'tripduration', 'start_station_name') \n",
    "cds_cus, hover_cus = createCDS(cus_start_top_dur, 'start_coords_x', 'start_coords_y',\n",
    "                               'Avg. Duration', 'tripduration', 'start_station_name') \n",
    "\n",
    "p = createMap(hover_sub, 'Stations with the Longest Average Rental Durations by User Type')\n",
    "\n",
    "sub_markers = plotMarkers(cds_sub, '#1E88E5', 'Subscriber')\n",
    "cus_markers = plotMarkers(cds_cus, '#FFC107', 'Customer')\n",
    "\n",
    "addLegend(p)\n",
    "\n",
    "show(p)"
   ]
  },
  {
   "cell_type": "markdown",
   "metadata": {},
   "source": [
    "\n",
    "### Which stations have the shortest rental durations on average?\n"
   ]
  },
  {
   "cell_type": "code",
   "execution_count": null,
   "metadata": {},
   "outputs": [],
   "source": [
    "# Create new dfs for popular start stations by user_type\n",
    "sub_start_bottom_dur = df[df.usertype == 'Subscriber'].pivot_table(index=['usertype','start_station_name',\\\n",
    "                               'start_coords_x', 'start_coords_y'], values='tripduration', aggfunc=np.mean).\\\n",
    "                               sort_values('tripduration').reset_index().head(10)\n",
    "\n",
    "cus_start_bottom_dur = df[df.usertype == 'Customer'].pivot_table(index=['usertype', 'start_station_name',\\\n",
    "                               'start_coords_x', 'start_coords_y'], values='tripduration', aggfunc=np.mean).\\\n",
    "                               sort_values('tripduration').reset_index().head(10)\n",
    "\n",
    "# Bottom 10 start stations by user type\n",
    "pd.concat([sub_start_bottom_dur[['usertype','start_station_name','tripduration']],\\\n",
    "           cus_start_bottom_dur[['usertype','start_station_name','tripduration']]], axis=1)"
   ]
  },
  {
   "cell_type": "code",
   "execution_count": null,
   "metadata": {},
   "outputs": [],
   "source": [
    "# Utilize helper functions to plot the map \n",
    "cds_sub, hover_sub = createCDS(sub_start_bottom_dur, 'start_coords_x', 'start_coords_y',\n",
    "                               'Avg. Duration', 'tripduration', 'start_station_name') \n",
    "cds_cus, hover_cus = createCDS(cus_start_bottom_dur, 'start_coords_x', 'start_coords_y',\n",
    "                               'Avg. Duration', 'tripduration', 'start_station_name') \n",
    "\n",
    "p = createMap(hover_sub, 'Stations with the Shortest Average Rental Durations by User Type')\n",
    "\n",
    "sub_markers = plotMarkers(cds_sub, '#1E88E5', 'Subscriber')\n",
    "cus_markers = plotMarkers(cds_cus, '#FFC107', 'Customer')\n",
    "\n",
    "addLegend(p)\n",
    "\n",
    "show(p)"
   ]
  },
  {
   "cell_type": "markdown",
   "metadata": {},
   "source": [
    "## 5. How much does temperature affect rental counts?"
   ]
  },
  {
   "cell_type": "code",
   "execution_count": null,
   "metadata": {},
   "outputs": [],
   "source": [
    "new_df = df.pivot_table(index=['date', 'usertype', 'temp'],\n",
    "                                                     values=['tripduration', 'count'], \n",
    "                                                     aggfunc={\"count\": np.sum,\"tripduration\": np.mean}).\\\n",
    "                                                     sort_values(\"usertype\", ascending=False).reset_index()"
   ]
  },
  {
   "cell_type": "code",
   "execution_count": null,
   "metadata": {},
   "outputs": [],
   "source": [
    "###TODO\n",
    "# split into facet grid to show usertypes side by side\n",
    "# Clean up styling - add title, update legend and axis titles\n",
    "# Reverse colors to match up with other charts\n",
    "\n",
    "plt.figure(figsize=(9,6))\n",
    "ax = sns.scatterplot(y=\"tripduration\", x=\"temp\", hue=\"usertype\", data=new_df)\n",
    "plt.legend(loc='upper right', bbox_to_anchor=(1.3, 1), ncol=1);"
   ]
  },
  {
   "cell_type": "code",
   "execution_count": null,
   "metadata": {},
   "outputs": [],
   "source": [
    "plt.figure(figsize=(9,6))\n",
    "ax = sns.scatterplot(y=\"count\", x=\"temp\", hue=\"usertype\", data=new_df)\n",
    "plt.legend(loc='upper right', bbox_to_anchor=(1.3, 1), ncol=1);"
   ]
  },
  {
   "cell_type": "code",
   "execution_count": null,
   "metadata": {},
   "outputs": [],
   "source": [
    "# g = sns.relplot(x=\"total_bill\", y=\"tip\",\n",
    "#                  col=\"time\", hue=\"day\", style=\"day\",\n",
    "#                  kind=\"scatter\", data=new_df)\n"
   ]
  },
  {
   "cell_type": "markdown",
   "metadata": {},
   "source": [
    "#### TODO\n",
    "- Most popular routes\n",
    "- Chloropleth map showing zip codes with highest and lowest usage by rental count"
   ]
  }
 ],
 "metadata": {
  "kernelspec": {
   "display_name": "Python 3",
   "language": "python",
   "name": "python3"
  },
  "language_info": {
   "codemirror_mode": {
    "name": "ipython",
    "version": 3
   },
   "file_extension": ".py",
   "mimetype": "text/x-python",
   "name": "python",
   "nbconvert_exporter": "python",
   "pygments_lexer": "ipython3",
   "version": "3.7.6"
  }
 },
 "nbformat": 4,
 "nbformat_minor": 4
}
