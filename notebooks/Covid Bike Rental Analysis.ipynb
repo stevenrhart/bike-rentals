{
 "cells": [
  {
   "cell_type": "markdown",
   "metadata": {},
   "source": [
    "# The Affect of Covid-19 on NYC Bike Rentals\n",
    "\n",
    "TBD - Introduction paragraph\n",
    "- Set the context\n",
    "- Introduce the analysis\n",
    "- Add an image?"
   ]
  },
  {
   "cell_type": "markdown",
   "metadata": {},
   "source": [
    "\n",
    "## 1. A story in 9+ million rows\n",
    "\n",
    "TBD - Introduce the data set\n",
    "- Where does it come from\n",
    "- What were some of the challenges - # of rows and optimization\n",
    "- What are the steps in this section\n"
   ]
  },
  {
   "cell_type": "markdown",
   "metadata": {},
   "source": [
    "\n",
    "### Import packages\n"
   ]
  },
  {
   "cell_type": "code",
   "execution_count": null,
   "metadata": {},
   "outputs": [],
   "source": [
    "# Import packages\n",
    "import glob\n",
    "import numpy as np\n",
    "import pandas as pd\n",
    "import math\n",
    "# import scipy.stats as stats\n",
    "\n",
    "import matplotlib.pyplot as plt\n",
    "%matplotlib inline\n",
    "plt.style.use('seaborn-poster') #sets the size of the charts\n",
    "plt.style.use('ggplot')\n",
    "\n",
    "import seaborn as sns\n",
    "sns.set(style='ticks', color_codes=True, font_scale=1.25)\n",
    "\n",
    "from bokeh.plotting import figure, show\n",
    "from bokeh.io import output_notebook\n",
    "from bokeh.tile_providers import CARTODBPOSITRON, get_provider\n",
    "from bokeh.models import ColumnDataSource, HoverTool\n",
    "\n",
    "# Set display option for floats in Pandas\n",
    "pd.set_option('display.float_format', lambda x: '%.2f' % x)\n",
    "\n",
    "# Setup Bokeh to output directly to the notebook\n",
    "output_notebook(resources=None, verbose=False, hide_banner=True, load_timeout=5000, notebook_type='jupyter')"
   ]
  },
  {
   "cell_type": "markdown",
   "metadata": {},
   "source": [
    "\n",
    "### Prep for data import\n"
   ]
  },
  {
   "cell_type": "code",
   "execution_count": null,
   "metadata": {},
   "outputs": [],
   "source": [
    "# Dictionary of columns and optimal dtypes\n",
    "col_types = {'usertype': 'category',\n",
    "             'birth year': 'int', \n",
    "             'gender': 'int8'\n",
    "            }\n",
    "\n",
    "# Create list of updated column names\n",
    "col_names = ['tripduration', 'starttime', 'bikeid', 'usertype', 'birth_year', 'gender']"
   ]
  },
  {
   "cell_type": "markdown",
   "metadata": {},
   "source": [
    "\n",
    "### Create helper function\n"
   ]
  },
  {
   "cell_type": "code",
   "execution_count": null,
   "metadata": {},
   "outputs": [],
   "source": [
    "# Function for reading in and processing data files\n",
    "def read_and_process_simple(filepath):\n",
    "    '''Reads in and processes CitiBike monthly csv data files\n",
    "         \n",
    "    Args:\n",
    "      filepath (string): path to csv data file\n",
    "    \n",
    "    Returns:\n",
    "      temp_df (dataframe): dataframe containing the list of rentals for a given month\n",
    "    '''\n",
    "    \n",
    "    # Read in the data\n",
    "    temp_df = pd.read_csv(filepath) \n",
    "    \n",
    "    # Drop rows with null values\n",
    "    temp_df = temp_df.dropna()\n",
    "    \n",
    "    # Convert start/stop time columns to datetime\n",
    "    temp_df.starttime = pd.to_datetime(temp_df.starttime, infer_datetime_format=True)\n",
    "    \n",
    "    # Convert column dtypes\n",
    "    temp_df = temp_df.astype(col_types)\n",
    "    \n",
    "    # Drop unnecessary columns\n",
    "    temp_df = temp_df.drop(['stoptime', 'start station id', 'end station id',\n",
    "                            'start station name', 'start station latitude', 'start station longitude',\n",
    "                            'end station name', 'end station latitude', 'end station longitude'], axis=1)\n",
    "    \n",
    "    # Rename remaining columns\n",
    "    temp_df.columns = col_names\n",
    "\n",
    "    return temp_df"
   ]
  },
  {
   "cell_type": "markdown",
   "metadata": {},
   "source": [
    "\n",
    "### Read in the data\n"
   ]
  },
  {
   "cell_type": "code",
   "execution_count": null,
   "metadata": {},
   "outputs": [],
   "source": [
    "# Create list of years \n",
    "years = [2019, 2020]\n",
    "\n",
    "# Read in and process the data\n",
    "def gen_df(year):\n",
    "    rentals_dfs = []\n",
    "    data_files = glob.glob('../data/' + str(year) + \"*.csv\")\n",
    "    for file in data_files:\n",
    "        rentals_df = read_and_process_simple(file)\n",
    "        rentals_dfs.append(rentals_df)\n",
    "    df = pd.concat(rentals_dfs, ignore_index=True)\n",
    "    return df\n",
    "\n",
    "df_2019 = gen_df(2019)\n",
    "df_2020 = gen_df(2020)\n",
    "\n",
    "# Calculate memory usage\n",
    "mem_2019 = df_2019.memory_usage().sum() / 1024**2\n",
    "mem_2020 = df_2020.memory_usage().sum() / 1024**2\n",
    "\n",
    "# Print output\n",
    "print(\"2019 Data: \" + str(df_2019.shape[0]) + \" rows\")\n",
    "print('Memory usage after optimization:  {:.2f} MB'.format(mem_2019))\n",
    "print(\"2020 Data: \" + str(df_2020.shape[0]) + \" rows\")\n",
    "print('Memory usage after optimization:  {:.2f} MB'.format(mem_2020))"
   ]
  },
  {
   "cell_type": "markdown",
   "metadata": {},
   "source": [
    "\n",
    "## 2. Do people rent bikes during a pandemic?\n",
    "\n",
    "TBD - Intro the section\n",
    "\n",
    "- Add more date dimensions\n",
    "- Add a count column\n",
    "- Trip count by dow, hod (gender?, age? usertype?)"
   ]
  },
  {
   "cell_type": "markdown",
   "metadata": {},
   "source": [
    "### Create new columns"
   ]
  },
  {
   "cell_type": "code",
   "execution_count": null,
   "metadata": {},
   "outputs": [],
   "source": [
    "# Sort the dfs by starttime\n",
    "df_2019 = df_2019.sort_values(by=['starttime']).reset_index(drop=True)\n",
    "df_2020 = df_2020.sort_values(by=['starttime']).reset_index(drop=True)\n",
    "\n",
    "# Create a column to facilitate totaling rental count\n",
    "df_2019['rental_count'] = 1\n",
    "df_2020['rental_count'] = 1\n",
    "\n",
    "# Calculate running total of rental counts by year\n",
    "df_2019['running_total'] = df_2019['rental_count'].cumsum()\n",
    "df_2020['running_total'] = df_2020['rental_count'].cumsum()"
   ]
  },
  {
   "cell_type": "code",
   "execution_count": null,
   "metadata": {},
   "outputs": [],
   "source": [
    "fig = plt.figure()\n",
    "ax = sns.lineplot(x='starttime', y='running_total', data=df_2019, color='#1E88E5', label='2019')\n",
    "sns.lineplot(x='starttime', y='running_total', data=df_2020, color='#FFC107', label='2020')"
   ]
  },
  {
   "cell_type": "code",
   "execution_count": null,
   "metadata": {},
   "outputs": [],
   "source": []
  }
 ],
 "metadata": {
  "kernelspec": {
   "display_name": "Python 3",
   "language": "python",
   "name": "python3"
  },
  "language_info": {
   "codemirror_mode": {
    "name": "ipython",
    "version": 3
   },
   "file_extension": ".py",
   "mimetype": "text/x-python",
   "name": "python",
   "nbconvert_exporter": "python",
   "pygments_lexer": "ipython3",
   "version": "3.7.4"
  }
 },
 "nbformat": 4,
 "nbformat_minor": 4
}
