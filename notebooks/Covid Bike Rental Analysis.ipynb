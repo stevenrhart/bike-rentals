{
 "cells": [
  {
   "cell_type": "markdown",
   "metadata": {},
   "source": [
    "# NYC Bike Rental Analysis\n",
    "\n",
    "TBD - Introduction paragraph\n",
    "- Set the context\n",
    "- Introduce the analysis\n",
    "- Add an image?"
   ]
  },
  {
   "cell_type": "markdown",
   "metadata": {},
   "source": [
    "\n",
    "## 1. A story in 9+ million rows\n",
    "\n",
    "TBD - Introduce the data set\n",
    "- Where does it come from\n",
    "- What were some of the challenges - # of rows and optimization\n",
    "- What are the steps in this section\n"
   ]
  },
  {
   "cell_type": "markdown",
   "metadata": {},
   "source": [
    "\n",
    "### Import packages\n"
   ]
  },
  {
   "cell_type": "code",
   "execution_count": 1,
   "metadata": {},
   "outputs": [],
   "source": [
    "# Import packages\n",
    "import glob\n",
    "import numpy as np\n",
    "import pandas as pd\n",
    "import math\n",
    "\n",
    "import matplotlib.pyplot as plt\n",
    "%matplotlib inline\n",
    "import seaborn as sns\n",
    "sns.set(style='ticks', color_codes=True, font_scale=1.25)\n",
    "\n",
    "# Set display option for floats in Pandas\n",
    "pd.set_option('display.float_format', lambda x: '%.2f' % x)"
   ]
  },
  {
   "cell_type": "markdown",
   "metadata": {},
   "source": [
    "\n",
    "### Create helper functions\n"
   ]
  },
  {
   "cell_type": "code",
   "execution_count": 2,
   "metadata": {},
   "outputs": [],
   "source": [
    "# Function for reading in and processing data files\n",
    "def read_and_process(filepath, col_types, drop_cols, col_names, get_stations=False):\n",
    "    '''Reads in and processes CitiBike monthly csv data files and returns a \n",
    "    dataframe containing the list of rentals for a given month\n",
    "    '''\n",
    "    # Read in the data\n",
    "    temp_df = pd.read_csv(filepath) \n",
    "    \n",
    "    # Drop rows with null values\n",
    "    temp_df = temp_df.dropna()\n",
    "    \n",
    "    # Convert start/stop time columns to datetime\n",
    "    temp_df.starttime = pd.to_datetime(temp_df.starttime, infer_datetime_format=True)\n",
    "    temp_df.stoptime = pd.to_datetime(temp_df.stoptime, infer_datetime_format=True)\n",
    "    \n",
    "    # Convert column dtypes\n",
    "    temp_df = temp_df.astype(col_types)\n",
    "    \n",
    "    if get_stations == True:  # Process station data\n",
    "        temp_stations = process_station_data(temp_df)  \n",
    "    \n",
    "    # Drop unnecessary or redundant columns\n",
    "    temp_df = temp_df.drop(drop_cols, axis=1)\n",
    "    \n",
    "    # Rename remaining columns\n",
    "    temp_df.columns = col_names\n",
    "    \n",
    "    # Return df object(s) based on params\n",
    "    if get_stations == True: \n",
    "        return temp_df, temp_stations\n",
    "    else:\n",
    "        return temp_df\n",
    "\n",
    "\n",
    "# Function for abstracting out station-related data\n",
    "def process_station_data(df):\n",
    "    '''Processes and abstracts station-related data and returns as a separate dataframe\n",
    "    '''\n",
    "    # New column names\n",
    "    cols = ['id', 'name', 'lat', 'lon']\n",
    "\n",
    "    # Temp df for start stations\n",
    "    start_stations = df[['start station id', 'start station name',\n",
    "                         'start station latitude', 'start station longitude']]\n",
    "    start_stations.columns = cols\n",
    "    start_stations = start_stations.drop_duplicates()\n",
    "\n",
    "    # Temp df for end stations\n",
    "    end_stations = df[['end station id', 'end station name',\n",
    "                       'end station latitude', 'end station longitude']]\n",
    "    end_stations.columns = cols\n",
    "    end_stations = end_stations.drop_duplicates()\n",
    "    \n",
    "    # Concatenate the start/end station dfs and drop dups \n",
    "    temp_stations = pd.concat([start_stations, end_stations],\n",
    "                              ignore_index=True).drop_duplicates()\n",
    "    \n",
    "    return temp_stations\n",
    "\n",
    "\n",
    "# Function for pivoting dataframe\n",
    "def pivot_df(df, pv_index, pv_columns, pv_values, scale, reset=False, cumsum=False, impute=False):\n",
    "    \"\"\"Returns a pivoted version of a dataframe to aid in plotting\n",
    "    \"\"\"\n",
    "    # Create pivot table\n",
    "    df_pivot = df.pivot_table(index=pv_index, columns=pv_columns, values=pv_values, aggfunc=np.sum)\n",
    "\n",
    "    # Impute values for 2019-02-29 to account for leap year in 2020 \n",
    "    if impute == True:\n",
    "        df_pivot = df_pivot.fillna(df_pivot[2019].mean())\n",
    "\n",
    "    # Convert to running total\n",
    "    if cumsum == True:\n",
    "        df_pivot = df_pivot.cumsum()\n",
    "    \n",
    "    # Scale values \n",
    "    df_pivot = df_pivot.apply(lambda x: round((x * scale),2), axis=1)\n",
    "\n",
    "    # Reset the index\n",
    "    if reset == True:\n",
    "        df_pivot = df_pivot.reset_index()\n",
    "    \n",
    "    return df_pivot"
   ]
  },
  {
   "cell_type": "markdown",
   "metadata": {},
   "source": [
    "\n",
    "### Prep for import and read in the data\n"
   ]
  },
  {
   "cell_type": "code",
   "execution_count": null,
   "metadata": {},
   "outputs": [],
   "source": [
    "# Dictionary of columns and optimal dtypes\n",
    "col_types = {'usertype': 'category', 'birth year': 'int', 'gender': 'int8'}\n",
    "\n",
    "# Create list of updated column names\n",
    "col_names = ['tripduration', 'starttime', 'usertype', 'birth_year', 'gender']\n",
    "\n",
    "# Create list of columns to drop\n",
    "drop_cols = ['stoptime', 'start station id', 'end station id', 'start station name',\n",
    "             'start station latitude', 'start station longitude', 'end station name',\n",
    "             'end station latitude', 'end station longitude', 'bikeid']\n",
    "\n",
    "# Read in and process the data\n",
    "data_files = glob.glob('../data/' + \"*.csv\")\n",
    "rentals_dfs = []\n",
    "for file in data_files:\n",
    "    rentals_df = read_and_process(file, col_types, drop_cols, col_names)\n",
    "    rentals_dfs.append(rentals_df)\n",
    "\n",
    "# Concatentate the list of temp dfs\n",
    "df = pd.concat(rentals_dfs, ignore_index=True)\n",
    "\n",
    "# Calculate memory usage\n",
    "mem_usage = df.memory_usage().sum() / 1024**2\n",
    "\n",
    "# Print output\n",
    "print(\"Dataframe rows, columns: \" + str(df.shape))\n",
    "print('Memory usage after optimization:  {:.2f} MB'.format(mem_usage))"
   ]
  },
  {
   "cell_type": "markdown",
   "metadata": {},
   "source": [
    "\n",
    "## 2. How does a global pandemic affect bike rentals?\n",
    "\n",
    "TBD - Intro the section\n",
    "\n",
    "- Add more date dimensions\n",
    "- Add a count column\n",
    "- Trip count by dow, hod (gender?, age? usertype?)"
   ]
  },
  {
   "cell_type": "markdown",
   "metadata": {},
   "source": [
    "### Create new columns for rental count and day/month/year"
   ]
  },
  {
   "cell_type": "code",
   "execution_count": null,
   "metadata": {},
   "outputs": [],
   "source": [
    "# Sort the dfs by starttime\n",
    "df = df.sort_values(by=['starttime']).reset_index(drop=True)\n",
    "\n",
    "# Create a column to facilitate totaling rental count\n",
    "df['rental_count'] = 1\n",
    "\n",
    "# Create new columns for day, month and year\n",
    "df['hour'] = df.starttime.dt.hour\n",
    "df['day'] = df.starttime.dt.day\n",
    "df['month'] = df.starttime.dt.month\n",
    "df[\"year\"] = df.starttime.dt.year\n",
    "\n",
    "# Drop starttime column\n",
    "df = df.drop('starttime', axis=1)"
   ]
  },
  {
   "cell_type": "markdown",
   "metadata": {},
   "source": [
    "\n",
    "### Pivot by total rentals per month, by year\n"
   ]
  },
  {
   "cell_type": "code",
   "execution_count": null,
   "metadata": {},
   "outputs": [],
   "source": [
    "# Pivot df using helper function\n",
    "df_pivot = pivot_df(df, ['month'], ['year'], 'rental_count', 0.000001)\n",
    "\n",
    "# Rename index to friendly month names\n",
    "df_pivot.rename(index={1: 'Jan', 2: 'Feb', 3: 'Mar', 4: 'Apr'}, inplace=True)\n",
    "\n",
    "# Plot the data and set style\n",
    "labels = ['Jan', 'Feb', 'Mar', 'Apr']\n",
    "df_pivot.plot(kind='bar', figsize=(12, 7), rot=0, label=labels, color=['gray', 'k'])\n",
    "plt.text(0.1, .91, 'Millions', fontsize=14, transform=plt.gcf().transFigure)\n",
    "plt.xlabel(None)\n",
    "plt.suptitle(\"Rentals Per Month\", fontsize=18)\n",
    "# plt.title(\"(CitiBike NYC)\", fontsize=14, pad=16)\n",
    "plt.legend(title=None, loc='upper left', bbox_to_anchor=(1, 1));"
   ]
  },
  {
   "cell_type": "markdown",
   "metadata": {},
   "source": [
    "\n",
    "### Pivot by cumulative sum of rentals, by year\n"
   ]
  },
  {
   "cell_type": "code",
   "execution_count": null,
   "metadata": {},
   "outputs": [],
   "source": [
    "# Pivot df using helper function\n",
    "df_pivot = pivot_df(df, ['month', 'day'], ['year'], 'rental_count', 1.00E-6, cumsum=True, impute=True)\n",
    "\n",
    "# Plot a line chart and set the chart style\n",
    "df_pivot.plot(kind='line', linewidth=3, figsize=(12, 7), color=['gray', 'k'])\n",
    "\n",
    "# Plot vertical lines for key dates\n",
    "plt.axvline(x=70, color='red', linestyle='--', linewidth=1)\n",
    "plt.text(67.5,0.05,'Covid declared pandemic',rotation=90, fontsize=12, color='red')\n",
    "plt.axvline(x=80, color='red', linestyle='--', linewidth=1)\n",
    "plt.text(77.5,0.05,'NY shelter-in-place order',rotation=90, fontsize=12, color='red')\n",
    "\n",
    "# Add labels and legend\n",
    "plt.text(0.1, .91, 'Millions', fontsize=14, transform=plt.gcf().transFigure)\n",
    "plt.suptitle(\"Total Cumulative Rental Count\", fontsize=18)\n",
    "# plt.title(\"(millions of rentals)\", fontsize=14, pad=16)\n",
    "plt.xticks(np.linspace(0, 121, num=5), ['Jan', 'Feb', 'Mar', 'Apr', 'May'])\n",
    "plt.xlabel(None)\n",
    "plt.legend(title=None, loc='upper left', bbox_to_anchor=(1, 1));"
   ]
  },
  {
   "cell_type": "markdown",
   "metadata": {},
   "source": [
    "\n",
    "## 3. What's the affect on rental durations?\n"
   ]
  },
  {
   "cell_type": "code",
   "execution_count": null,
   "metadata": {},
   "outputs": [],
   "source": [
    "# Pivot df using helper function\n",
    "df_pivot = pivot_df(df, ['month', 'day'], ['year'], 'tripduration', 1.667E-8, cumsum=True, impute=True)\n",
    "\n",
    "# Plot a line chart and set the chart style\n",
    "df_pivot.plot(kind='line', linewidth=3, figsize=(12, 7), color=['gray', 'k'])\n",
    "\n",
    "# Plot vertical lines for key dates\n",
    "plt.axvline(x=70, color='red', linestyle='--', linewidth=1)\n",
    "plt.text(67.5,0.05,'Covid declared pandemic',rotation=90, fontsize=12, color='red')\n",
    "plt.axvline(x=80, color='red', linestyle='--', linewidth=1)\n",
    "plt.text(77.5,0.05,'NY shelter-in-place order',rotation=90, fontsize=12, color='red')\n",
    "\n",
    "# Add labels and legend\n",
    "plt.text(0.1, .91, 'Millions', fontsize=14, transform=plt.gcf().transFigure)\n",
    "plt.suptitle(\"Total Cumulative Rental Duration\", fontsize=18)\n",
    "plt.title(\"(in minutes)\", fontsize=14, pad=16)\n",
    "plt.xticks(np.linspace(0, 121, num=5), ['Jan', 'Feb', 'Mar', 'Apr', 'May'])\n",
    "plt.xlabel(None)\n",
    "plt.legend(title=None, loc='upper left', bbox_to_anchor=(1, 1));"
   ]
  },
  {
   "cell_type": "markdown",
   "metadata": {},
   "source": [
    "\n",
    "## 4. Do age or gender make a difference?\n",
    "\n",
    "TBD intro\n",
    "- Review rental counts"
   ]
  },
  {
   "cell_type": "markdown",
   "metadata": {},
   "source": [
    "\n",
    "### Create helper function for plotting\n"
   ]
  },
  {
   "cell_type": "code",
   "execution_count": null,
   "metadata": {},
   "outputs": [],
   "source": [
    "# Create helper function for age & gender plots\n",
    "def make_plot(df, x_labels, num_plots, facet, y_min, y_max, subtitle, title, x_pos_suptitle, x_pos_title):\n",
    "    \"\"\"Returns a plot based on a pivoted df\n",
    "    \"\"\"\n",
    "    # Set x labels\n",
    "    x_labels = x_labels\n",
    "\n",
    "    # Create figure and pad the subplots\n",
    "    fig = plt.figure(figsize=(16,4))\n",
    "    # fig.subplots_adjust(wspace=0.3) # Use to adjust spacing on plots if needed\n",
    "\n",
    "    # Create a subplot for each gender\n",
    "    for i in range(num_plots):\n",
    "        df_temp = df_pivot[df_pivot[facet] == i]\n",
    "        df_temp_pivot = df_temp.pivot_table(index=['month'], values=[2019,2020], aggfunc=np.sum)\n",
    "\n",
    "        # Extract x and y values \n",
    "        x = df_temp_pivot.index.to_list()\n",
    "        y1 = df_temp_pivot.iloc[:,0].to_list()\n",
    "        y2 = df_temp_pivot.iloc[:,1].to_list()\n",
    "        \n",
    "        # Create elements to zip y values\n",
    "        y = [y1, y2]\n",
    "        labels = ['2019', '2020']\n",
    "        colors = ['gray', 'k']\n",
    "\n",
    "        # Plot the values\n",
    "        plt.subplot(1,3, (i+1))\n",
    "        for y_arr, label, color in zip(y, labels, colors):\n",
    "            plt.plot(x, y_arr, color=color, label=label, linewidth=2, marker='o')\n",
    "        plt.xticks(np.linspace(1, 4, 4), ['Jan', 'Feb', 'Mar', 'Apr'])\n",
    "        plt.xlabel(x_labels[i], labelpad=16)\n",
    "#         if i !=0:                                  # An option to remove yticklabels on inner plots\n",
    "#             plt.yticks(np.linspace(-0, 5, 5), \" \") # Will require abstraction of spacing if implemented\n",
    "        plt.ylim(y_min, y_max) \n",
    "        \n",
    "    # Add legend and show the plot\n",
    "    plt.text(0.1, .94, 'Millions', fontsize=14, transform=plt.gcf().transFigure)\n",
    "    plt.suptitle(subtitle, y=1.05, x=x_pos_suptitle, fontsize=18)\n",
    "    plt.title(title, fontsize=14, pad=16, y=1.0, x=x_pos_title)\n",
    "    plt.legend(title=None, loc='upper left', bbox_to_anchor=(1, 1));\n",
    "    plt.show()     "
   ]
  },
  {
   "cell_type": "markdown",
   "metadata": {},
   "source": [
    "\n",
    "### Plot cumulative rental count and duration by gender\n"
   ]
  },
  {
   "cell_type": "code",
   "execution_count": null,
   "metadata": {},
   "outputs": [],
   "source": [
    "# Pivot df using helper function\n",
    "df_pivot = pivot_df(df, ['month', 'gender'], ['year'], 'rental_count', 1.00E-6,\n",
    "                    cumsum=True, impute=True, reset=True)\n",
    "\n",
    "# Configure variables\n",
    "x_labels = ['Not Specified', 'Male', 'Female']\n",
    "num_plots = 3\n",
    "facet = 'gender'\n",
    "y_min, y_max = -0.5, 5.5\n",
    "subtitle = \"Total Cumulative Rentals, by Gender\"\n",
    "title = \"(millions of rentals)\"\n",
    "x_pos_suptitle, x_pos_title = 0.5, -0.75\n",
    "\n",
    "# Call the helper function to make the plot\n",
    "make_plot(df, x_labels, num_plots, facet, y_min, y_max, subtitle, title, x_pos_suptitle, x_pos_title)"
   ]
  },
  {
   "cell_type": "code",
   "execution_count": null,
   "metadata": {},
   "outputs": [],
   "source": [
    "# Pivot df using helper function\n",
    "df_pivot = pivot_df(df, ['month', 'gender'], ['year'], 'tripduration', 1.667E-8,\n",
    "                    cumsum=True, impute=True, reset=True)\n",
    "\n",
    "# Update variables\n",
    "y_min, y_max = -0.5, 80\n",
    "subtitle = \"Total Cumulative Duration, by Gender\"\n",
    "title = \"(minutes)\"\n",
    "\n",
    "# Call the helper function to make the plot\n",
    "make_plot(df, x_labels, num_plots, facet, y_min, y_max, subtitle, title, x_pos_suptitle, x_pos_title)"
   ]
  },
  {
   "cell_type": "markdown",
   "metadata": {},
   "source": [
    "\n",
    "### Assign age groups\n"
   ]
  },
  {
   "cell_type": "code",
   "execution_count": null,
   "metadata": {},
   "outputs": [],
   "source": [
    "# Create function to return decade for a given year\n",
    "def assign_age_cat(year):\n",
    "    \"\"\"Returns 1 digit age category when passed 4 digit year    \n",
    "    \"\"\"\n",
    "    if (year > 1985) and (year <= 2005):\n",
    "        age_cat = 0\n",
    "    elif (year >= 1970) and (year <= 1985):\n",
    "        age_cat = 1\n",
    "    elif (year >= 1920) and (year < 1970):\n",
    "        age_cat = 2\n",
    "    else:\n",
    "        age_cat = 3\n",
    "    return age_cat"
   ]
  },
  {
   "cell_type": "code",
   "execution_count": null,
   "metadata": {},
   "outputs": [],
   "source": [
    "# Create new column for decade and populate with function\n",
    "df[\"age_cat\"] = df['birth_year'].apply(assign_age_cat)\n",
    "\n",
    "# Drop rows with no birth year\n",
    "df = df[df.age_cat != 3]"
   ]
  },
  {
   "cell_type": "markdown",
   "metadata": {},
   "source": [
    "\n",
    "### Plot cumulative rental count and duration by age group\n"
   ]
  },
  {
   "cell_type": "code",
   "execution_count": null,
   "metadata": {},
   "outputs": [],
   "source": [
    "# Pivot df using helper function\n",
    "df_pivot = pivot_df(df, ['month', 'age_cat'], ['year'], 'rental_count', 1.00E-6,\n",
    "                    cumsum=True, impute=True, reset=True)\n",
    "\n",
    "# Update variables\n",
    "x_labels = ['Under 35', '35-55', 'Over 55']\n",
    "facet = 'age_cat'\n",
    "y_min, y_max = -0.5, 5.5\n",
    "subtitle = \"Total Cumulative Rentals, by Age Group\"\n",
    "title = \"(millions of rentals)\"\n",
    "x_pos_suptitle, x_pos_title = 0.5, -0.85\n",
    "\n",
    "# Call the helper function to make the plot\n",
    "make_plot(df, x_labels, num_plots, facet, y_min, y_max, subtitle, title, x_pos_suptitle, x_pos_title)"
   ]
  },
  {
   "cell_type": "code",
   "execution_count": null,
   "metadata": {},
   "outputs": [],
   "source": [
    "# Pivot df using helper function\n",
    "df_pivot = pivot_df(df, ['month', 'age_cat'], ['year'], 'tripduration', 1.667E-8,\n",
    "                    cumsum=True, impute=True, reset=True)\n",
    "\n",
    "# Update variables\n",
    "y_min, y_max = -0.5, 80\n",
    "subtitle = \"Total Cumulative Duration, by Age Group\"\n",
    "title = \"(minutes)\"\n",
    "\n",
    "# Call the helper function to make the plot\n",
    "make_plot(df, x_labels, num_plots, facet, y_min, y_max, subtitle, title, x_pos_suptitle, x_pos_title)"
   ]
  },
  {
   "cell_type": "markdown",
   "metadata": {},
   "source": [
    "\n",
    "## 4. How is this impacting the bottom line?\n",
    "\n",
    "TBD intro"
   ]
  },
  {
   "cell_type": "markdown",
   "metadata": {},
   "source": [
    "\n",
    "### Plot cumulative rental count and duration by user type\n"
   ]
  },
  {
   "cell_type": "code",
   "execution_count": null,
   "metadata": {
    "scrolled": true
   },
   "outputs": [],
   "source": [
    "# Pivot df using helper function\n",
    "df_pivot = pivot_df(df, ['month', 'usertype'], ['year'], 'rental_count', 1.00E-6,\n",
    "                    cumsum=True, impute=True, reset=True)\n",
    "\n",
    "# Replace usertype values with 0 and 1\n",
    "dict = {'Customer': 0, 'Subscriber': 1}\n",
    "df_pivot = df_pivot.replace({\"usertype\": dict}) \n",
    "\n",
    "# Update variables\n",
    "x_labels = ['Casual Customer', 'Subscriber']\n",
    "num_plots = 2\n",
    "facet = 'usertype'\n",
    "y_min, y_max = -0.5, 5.5\n",
    "subtitle = \"Total Cumulative Rentals, by User Type\"\n",
    "title = \"(millions of rentals)\"\n",
    "x_pos_suptitle, x_pos_title = 0.35, -0.25\n",
    "\n",
    "# Call the helper function to make the plot\n",
    "make_plot(df, x_labels, num_plots, facet, y_min, y_max, subtitle, title, x_pos_suptitle, x_pos_title)"
   ]
  },
  {
   "cell_type": "code",
   "execution_count": null,
   "metadata": {},
   "outputs": [],
   "source": [
    "# Pivot df using helper function\n",
    "df_pivot = pivot_df(df, ['month', 'usertype'], ['year'], 'tripduration', 1.667E-8,\n",
    "                    cumsum=True, impute=True, reset=True)\n",
    "\n",
    "# Replace usertype values with 0 and 1\n",
    "dict = {'Customer': 0, 'Subscriber': 1}\n",
    "df_pivot = df_pivot.replace({\"usertype\": dict}) \n",
    "\n",
    "# Update variables\n",
    "y_min, y_max = -5, 80\n",
    "subtitle = \"Total Cumulative Duration, by User Type\"\n",
    "title = \"(minutes)\"\n",
    "\n",
    "# Call the helper function to make the plot\n",
    "make_plot(df, x_labels, num_plots, facet, y_min, y_max, subtitle, title, x_pos_suptitle, x_pos_title)"
   ]
  },
  {
   "cell_type": "markdown",
   "metadata": {},
   "source": [
    "\n",
    "\n",
    "TBD summary\n",
    "\n",
    "\n"
   ]
  },
  {
   "cell_type": "markdown",
   "metadata": {},
   "source": [
    "## 5. What is the impact in terms of peak bike usage, by hour of day and area?"
   ]
  },
  {
   "cell_type": "markdown",
   "metadata": {},
   "source": [
    "\n",
    "### Plot distribution of rentals and duration by hour of day\n"
   ]
  },
  {
   "cell_type": "code",
   "execution_count": null,
   "metadata": {},
   "outputs": [],
   "source": [
    "# Helper function for plotting\n",
    "\n",
    "def plot_hr_dist(df, y_tick_loc, y_min, y_max, y_axis_label, suptitle, title):\n",
    "    \"\"\"Returns a plot based on a pivoted df\n",
    "    \"\"\"\n",
    "    # Set x labels and x values\n",
    "    x_labels = ['Jan', 'Feb', 'Mar', 'Apr']\n",
    "    x = df_pivot.index.to_list()\n",
    "\n",
    "    # Set colors & labels\n",
    "    colors = {2019:'gray', 2020: 'k'}\n",
    "    labels = {2019:'2019', 2020: '2020'}\n",
    "\n",
    "    # Create figure and pad the subplots\n",
    "    fig = plt.figure(figsize=(16,7))\n",
    "    fig.subplots_adjust(wspace=0.3)\n",
    "\n",
    "    # Create a subplot for each month, year combination\n",
    "    for year in range(2019, 2021, 1):\n",
    "        for i in range(4):\n",
    "            # Extract y values \n",
    "            y = df_pivot[year, i+1]\n",
    "\n",
    "            # Plot the values\n",
    "            if year == 2020:\n",
    "                i=i+4\n",
    "            plt.subplot(2, 4, (i+1))\n",
    "            plt.bar(x, y, label=labels[year], color=colors[year])\n",
    "            \n",
    "            # Set xticks including tick labels for bottom row\n",
    "            if i > 3:\n",
    "                plt.xticks(np.linspace(0, 24, 5), ['12am', '6am', '12pm', '6PM'], rotation=0, fontsize=12)\n",
    "                plt.xlabel(x_labels[i-4], labelpad=16)\n",
    "            else:\n",
    "                plt.xticks(np.linspace(0, 24, 5), \" \")\n",
    "\n",
    "            # Set yticks including tick labels for bottom row\n",
    "            if i !=0 and i !=4:\n",
    "                plt.yticks(y_tick_loc, \" \")\n",
    "            \n",
    "            # Set axis limits\n",
    "            plt.ylim(y_min, y_max)\n",
    "            plt.xlim(-.5,23.5)\n",
    "\n",
    "            # Configure legend for outermost column\n",
    "            if i == 3 or i == 7:\n",
    "                plt.legend(title=None, loc='upper left', bbox_to_anchor=(1, 1))\n",
    "    #         elif i == 7: # Use if desired to group legends \n",
    "    #             plt.legend(title=None, loc='upper left', bbox_to_anchor=(1, 2))\n",
    "\n",
    "    # Add text & titles\n",
    "    plt.text(0.1, .92, y_axis_label, fontsize=14, transform=plt.gcf().transFigure)\n",
    "    plt.suptitle(suptitle, y=1, x=.5, fontsize=18)\n",
    "    plt.title(title, fontsize=14, pad=16, y=2.25, x=-1.6)\n",
    "\n",
    "    # Show the plot\n",
    "    plt.show()"
   ]
  },
  {
   "cell_type": "code",
   "execution_count": null,
   "metadata": {},
   "outputs": [],
   "source": [
    "# Pivot df using helper function\n",
    "df_pivot = pivot_df(df, ['hour'], ['year', 'month'], 'rental_count', 1.00E-3,\n",
    "                    impute=True, reset=True)\n",
    "\n",
    "# Configure variables\n",
    "y_tick_loc = np.linspace(0, 200, 5)\n",
    "y_min, y_max = 0, 180\n",
    "y_axis_label= 'Thousands'\n",
    "suptitle = \"Rental Distribution by Hour of Day, Jan-Apr\"\n",
    "title = \"(thousands of rentals)\"\n",
    "\n",
    "# Call the helper function to make the plot\n",
    "plot_hr_dist(df, y_tick_loc, y_min, y_max, y_axis_label, suptitle, title)"
   ]
  },
  {
   "cell_type": "code",
   "execution_count": null,
   "metadata": {},
   "outputs": [],
   "source": [
    "# Pivot df using helper function\n",
    "df_pivot = pivot_df(df, ['hour'], ['year', 'month'], 'tripduration', 1.667E-8,\n",
    "                    impute=True, reset=True)\n",
    "\n",
    "# Update variables\n",
    "y_tick_loc = np.linspace(0, 3, 6)\n",
    "y_min, y_max = 0, 3\n",
    "y_axis_label= 'Millions'\n",
    "suptitle = \"Rental Duration Distribution by Hour of Day, Jan-Apr\"\n",
    "title = \"(minutes)\"\n",
    "\n",
    "# Call the helper function to make the plot\n",
    "plot_hr_dist(df, y_tick_loc, y_min, y_max, y_axis_label, suptitle, title)"
   ]
  },
  {
   "cell_type": "markdown",
   "metadata": {},
   "source": [
    "TBD - Summary"
   ]
  },
  {
   "cell_type": "markdown",
   "metadata": {},
   "source": [
    "\n",
    "### Clear memory for new analysis\n"
   ]
  },
  {
   "cell_type": "code",
   "execution_count": null,
   "metadata": {},
   "outputs": [],
   "source": [
    "del df_temp_pivot\n",
    "del df_pivot\n",
    "del df"
   ]
  },
  {
   "cell_type": "markdown",
   "metadata": {},
   "source": [
    "\n",
    "### Prep for import and read in the data\n"
   ]
  },
  {
   "cell_type": "code",
   "execution_count": 3,
   "metadata": {},
   "outputs": [
    {
     "name": "stdout",
     "output_type": "stream",
     "text": [
      "Rentals: 9143693 rows\n",
      "Memory usage after optimization:  279.04 MB\n",
      "Stations: 970 rows\n",
      "Memory usage after optimization:  0.04 MB\n"
     ]
    }
   ],
   "source": [
    "# Dictionary of columns and optimal dtypes\n",
    "col_types = {'start station id': 'int', 'end station id': 'int'}\n",
    "\n",
    "# Create list of updated column names\n",
    "col_names = ['starttime', 'stoptime', 'start_station_id', 'end_station id']\n",
    "\n",
    "# Create list of columns to drop\n",
    "drop_cols = ['gender', 'tripduration', 'birth year', 'start station name',\n",
    "             'start station latitude', 'start station longitude', 'end station name',\n",
    "             'end station latitude', 'end station longitude', 'bikeid', 'usertype']\n",
    "\n",
    "# Create lists for each set of dataframes\n",
    "rentals_dfs = []\n",
    "station_dfs = []\n",
    "\n",
    "# Read in and process the data\n",
    "data_files = glob.glob('../data/' + \"*.csv\")\n",
    "for file in data_files:\n",
    "    rentals_df, station_df = read_and_process(file, col_types, drop_cols, col_names, get_stations=True)\n",
    "    rentals_dfs.append(rentals_df)\n",
    "    station_dfs.append(station_df)\n",
    "\n",
    "# Concatenate into 2 dataframes - rentals & stations and drop duplicate stations\n",
    "df = pd.concat(rentals_dfs, ignore_index=True)\n",
    "stations = pd.concat(station_dfs, ignore_index=True).drop_duplicates(subset='id', keep=\"first\")\n",
    "\n",
    "# Calculate memory usage\n",
    "rentals_mem = df.memory_usage().sum() / 1024**2\n",
    "stations_mem = stations.memory_usage().sum() / 1024**2\n",
    "\n",
    "# Print output\n",
    "print(\"Rentals: \" + str(df.shape[0]) + \" rows\")\n",
    "print('Memory usage after optimization:  {:.2f} MB'.format(rentals_mem))\n",
    "print(\"Stations: \" + str(stations.shape[0]) + \" rows\")\n",
    "print('Memory usage after optimization:  {:.2f} MB'.format(stations_mem))"
   ]
  },
  {
   "cell_type": "code",
   "execution_count": 4,
   "metadata": {},
   "outputs": [
    {
     "data": {
      "text/html": [
       "<div>\n",
       "<style scoped>\n",
       "    .dataframe tbody tr th:only-of-type {\n",
       "        vertical-align: middle;\n",
       "    }\n",
       "\n",
       "    .dataframe tbody tr th {\n",
       "        vertical-align: top;\n",
       "    }\n",
       "\n",
       "    .dataframe thead th {\n",
       "        text-align: right;\n",
       "    }\n",
       "</style>\n",
       "<table border=\"1\" class=\"dataframe\">\n",
       "  <thead>\n",
       "    <tr style=\"text-align: right;\">\n",
       "      <th></th>\n",
       "      <th>starttime</th>\n",
       "      <th>stoptime</th>\n",
       "      <th>start_station_id</th>\n",
       "      <th>end_station id</th>\n",
       "    </tr>\n",
       "  </thead>\n",
       "  <tbody>\n",
       "    <tr>\n",
       "      <th>0</th>\n",
       "      <td>2019-01-01 00:01:47.401</td>\n",
       "      <td>2019-01-01 00:07:07.581</td>\n",
       "      <td>3160</td>\n",
       "      <td>3283</td>\n",
       "    </tr>\n",
       "    <tr>\n",
       "      <th>1</th>\n",
       "      <td>2019-01-01 00:04:43.736</td>\n",
       "      <td>2019-01-01 00:10:00.608</td>\n",
       "      <td>519</td>\n",
       "      <td>518</td>\n",
       "    </tr>\n",
       "    <tr>\n",
       "      <th>2</th>\n",
       "      <td>2019-01-01 00:06:03.997</td>\n",
       "      <td>2019-01-01 00:15:55.438</td>\n",
       "      <td>3171</td>\n",
       "      <td>3154</td>\n",
       "    </tr>\n",
       "    <tr>\n",
       "      <th>3</th>\n",
       "      <td>2019-01-01 00:07:03.545</td>\n",
       "      <td>2019-01-01 00:52:22.650</td>\n",
       "      <td>504</td>\n",
       "      <td>3709</td>\n",
       "    </tr>\n",
       "    <tr>\n",
       "      <th>4</th>\n",
       "      <td>2019-01-01 00:07:35.945</td>\n",
       "      <td>2019-01-01 00:12:39.502</td>\n",
       "      <td>229</td>\n",
       "      <td>503</td>\n",
       "    </tr>\n",
       "  </tbody>\n",
       "</table>\n",
       "</div>"
      ],
      "text/plain": [
       "                starttime                stoptime  start_station_id  \\\n",
       "0 2019-01-01 00:01:47.401 2019-01-01 00:07:07.581              3160   \n",
       "1 2019-01-01 00:04:43.736 2019-01-01 00:10:00.608               519   \n",
       "2 2019-01-01 00:06:03.997 2019-01-01 00:15:55.438              3171   \n",
       "3 2019-01-01 00:07:03.545 2019-01-01 00:52:22.650               504   \n",
       "4 2019-01-01 00:07:35.945 2019-01-01 00:12:39.502               229   \n",
       "\n",
       "   end_station id  \n",
       "0            3283  \n",
       "1             518  \n",
       "2            3154  \n",
       "3            3709  \n",
       "4             503  "
      ]
     },
     "execution_count": 4,
     "metadata": {},
     "output_type": "execute_result"
    }
   ],
   "source": [
    "df.head()"
   ]
  },
  {
   "cell_type": "code",
   "execution_count": 5,
   "metadata": {},
   "outputs": [
    {
     "data": {
      "text/html": [
       "<div>\n",
       "<style scoped>\n",
       "    .dataframe tbody tr th:only-of-type {\n",
       "        vertical-align: middle;\n",
       "    }\n",
       "\n",
       "    .dataframe tbody tr th {\n",
       "        vertical-align: top;\n",
       "    }\n",
       "\n",
       "    .dataframe thead th {\n",
       "        text-align: right;\n",
       "    }\n",
       "</style>\n",
       "<table border=\"1\" class=\"dataframe\">\n",
       "  <thead>\n",
       "    <tr style=\"text-align: right;\">\n",
       "      <th></th>\n",
       "      <th>id</th>\n",
       "      <th>name</th>\n",
       "      <th>lat</th>\n",
       "      <th>lon</th>\n",
       "    </tr>\n",
       "  </thead>\n",
       "  <tbody>\n",
       "    <tr>\n",
       "      <th>0</th>\n",
       "      <td>3160</td>\n",
       "      <td>Central Park West &amp; W 76 St</td>\n",
       "      <td>40.78</td>\n",
       "      <td>-73.97</td>\n",
       "    </tr>\n",
       "    <tr>\n",
       "      <th>1</th>\n",
       "      <td>519</td>\n",
       "      <td>Pershing Square North</td>\n",
       "      <td>40.75</td>\n",
       "      <td>-73.98</td>\n",
       "    </tr>\n",
       "    <tr>\n",
       "      <th>2</th>\n",
       "      <td>3171</td>\n",
       "      <td>Amsterdam Ave &amp; W 82 St</td>\n",
       "      <td>40.79</td>\n",
       "      <td>-73.98</td>\n",
       "    </tr>\n",
       "    <tr>\n",
       "      <th>3</th>\n",
       "      <td>504</td>\n",
       "      <td>1 Ave &amp; E 16 St</td>\n",
       "      <td>40.73</td>\n",
       "      <td>-73.98</td>\n",
       "    </tr>\n",
       "    <tr>\n",
       "      <th>4</th>\n",
       "      <td>229</td>\n",
       "      <td>Great Jones St</td>\n",
       "      <td>40.73</td>\n",
       "      <td>-73.99</td>\n",
       "    </tr>\n",
       "  </tbody>\n",
       "</table>\n",
       "</div>"
      ],
      "text/plain": [
       "     id                         name   lat    lon\n",
       "0  3160  Central Park West & W 76 St 40.78 -73.97\n",
       "1   519        Pershing Square North 40.75 -73.98\n",
       "2  3171      Amsterdam Ave & W 82 St 40.79 -73.98\n",
       "3   504              1 Ave & E 16 St 40.73 -73.98\n",
       "4   229               Great Jones St 40.73 -73.99"
      ]
     },
     "execution_count": 5,
     "metadata": {},
     "output_type": "execute_result"
    }
   ],
   "source": [
    "stations.head()"
   ]
  },
  {
   "cell_type": "code",
   "execution_count": null,
   "metadata": {},
   "outputs": [],
   "source": []
  },
  {
   "cell_type": "markdown",
   "metadata": {},
   "source": [
    "\n",
    "## 5. Which areas are most impacted?\n"
   ]
  },
  {
   "cell_type": "code",
   "execution_count": null,
   "metadata": {},
   "outputs": [],
   "source": [
    "import fiona\n",
    "import geopandas as gpd\n",
    "\n",
    "from bokeh.models import GeoJSONDataSource, LinearColorMapper, ColorBar\n",
    "from bokeh.palettes import brewer\n",
    "from bokeh.plotting import figure, show, save\n",
    "from bokeh.io import show, output_file, output_notebook\n",
    "from bokeh.models import ColumnDataSource, HoverTool, LogColorMapper,GeoJSONDataSource, LinearColorMapper, ColorBar\n",
    "from bokeh.palettes import Reds6 as palette\n",
    "from bokeh.resources import CDN\n",
    "from bokeh.tile_providers import CARTODBPOSITRON, get_provider\n",
    "from shapely.geometry import Polygon, Point, MultiPoint, MultiPolygon\n",
    "from shapely.prepared import prep\n",
    "from mpl_toolkits.basemap import Basemap   \n",
    "from matplotlib.collections import PatchCollection\n",
    "from matplotlib.colors import Normalize\n",
    "from descartes import PolygonPatch\n",
    "\n",
    "# Setup Bokeh to output directly to the notebook\n",
    "output_notebook(resources=None, verbose=False, hide_banner=True, load_timeout=5000, notebook_type='jupyter')"
   ]
  },
  {
   "cell_type": "code",
   "execution_count": null,
   "metadata": {},
   "outputs": [],
   "source": [
    "#Turn the GeoJson file into a data frame and merge it with df \n",
    "data = '../data/nyc_zips.geojson'\n",
    "gdf = gpd.read_file(data)\n",
    "# merge = gdf.merge(df, how='left', on='postalCode')\n",
    "gdf"
   ]
  },
  {
   "cell_type": "markdown",
   "metadata": {},
   "source": [
    "\n",
    "\n"
   ]
  },
  {
   "cell_type": "code",
   "execution_count": null,
   "metadata": {},
   "outputs": [],
   "source": []
  }
 ],
 "metadata": {
  "kernelspec": {
   "display_name": "Python 3",
   "language": "python",
   "name": "python3"
  },
  "language_info": {
   "codemirror_mode": {
    "name": "ipython",
    "version": 3
   },
   "file_extension": ".py",
   "mimetype": "text/x-python",
   "name": "python",
   "nbconvert_exporter": "python",
   "pygments_lexer": "ipython3",
   "version": "3.7.6"
  }
 },
 "nbformat": 4,
 "nbformat_minor": 4
}
