{
 "cells": [
  {
   "cell_type": "markdown",
   "metadata": {},
   "source": [
    "# The Affect of Covid-19 on NYC Bike Rentals\n",
    "\n",
    "TBD - Introduction paragraph\n",
    "- Set the context\n",
    "- Introduce the analysis\n",
    "- Add an image?"
   ]
  },
  {
   "cell_type": "markdown",
   "metadata": {},
   "source": [
    "\n",
    "## 1. A story in 9+ million rows of data\n",
    "\n",
    "TBD - Introduce the data set\n",
    "- Where does it come from\n",
    "- What were some of the challenges - # of rows and optimization\n",
    "- What are the steps in this section\n"
   ]
  },
  {
   "cell_type": "markdown",
   "metadata": {},
   "source": [
    "\n",
    "### Import Packages \n"
   ]
  },
  {
   "cell_type": "code",
   "execution_count": null,
   "metadata": {},
   "outputs": [],
   "source": [
    "# Import packages\n",
    "import glob\n",
    "import numpy as np\n",
    "import pandas as pd\n",
    "import math\n",
    "# import scipy.stats as stats\n",
    "\n",
    "import matplotlib.pyplot as plt\n",
    "%matplotlib inline\n",
    "plt.style.use('seaborn-poster') #sets the size of the charts\n",
    "plt.style.use('ggplot')\n",
    "\n",
    "import seaborn as sns\n",
    "sns.set(style='ticks', color_codes=True, font_scale=1.25)\n",
    "\n",
    "from bokeh.plotting import figure, show\n",
    "from bokeh.io import output_notebook\n",
    "from bokeh.tile_providers import CARTODBPOSITRON, get_provider\n",
    "from bokeh.models import ColumnDataSource, HoverTool\n",
    "\n",
    "# Set display option for floats in Pandas\n",
    "pd.set_option('display.float_format', lambda x: '%.2f' % x)\n",
    "\n",
    "# Setup Bokeh to output directly to the notebook\n",
    "output_notebook(resources=None, verbose=False, hide_banner=True, load_timeout=5000, notebook_type='jupyter')"
   ]
  },
  {
   "cell_type": "markdown",
   "metadata": {},
   "source": [
    "\n",
    "### Prep for data import\n"
   ]
  },
  {
   "cell_type": "code",
   "execution_count": null,
   "metadata": {},
   "outputs": [],
   "source": [
    "# Dictionary of columns and optimal dtypes\n",
    "col_types = {'start station id': 'int',\n",
    "             'end station id': 'int', \n",
    "             'usertype': 'category',\n",
    "             'birth year': 'int', \n",
    "             'gender': 'int8'\n",
    "            }\n",
    "\n",
    "# Create list of updated column names\n",
    "col_names = ['tripduration', 'starttime', 'stoptime', 'start_station_id', 'end_station id',\n",
    "             'bikeid', 'usertype', 'birth_year', 'gender']\n",
    "\n",
    "# Create list of station column names\n",
    "station_cols = ['id', 'name', 'lat', 'lon']"
   ]
  },
  {
   "cell_type": "markdown",
   "metadata": {},
   "source": [
    "\n",
    "### Create helper functions\n"
   ]
  },
  {
   "cell_type": "code",
   "execution_count": null,
   "metadata": {},
   "outputs": [],
   "source": [
    "# Function for reading in and processing data files\n",
    "def read_and_process(filepath):\n",
    "    '''Reads in and processes CitiBike monthly csv data files\n",
    "         \n",
    "    Args:\n",
    "      filepath (string): path to csv data file\n",
    "    \n",
    "    Returns:\n",
    "      temp_df (dataframe): dataframe containing the list of rentals for a given month\n",
    "      \n",
    "      temp_stations (dataframe): dataframe containing the list of unique rental stations for a given month\n",
    "    '''\n",
    "    \n",
    "    # Read in the data\n",
    "    temp_df = pd.read_csv(filepath) \n",
    "    \n",
    "    # Drop rows with null values\n",
    "    temp_df = temp_df.dropna()\n",
    "    \n",
    "    # Convert start/stop time columns to datetime\n",
    "    temp_df.starttime = pd.to_datetime(temp_df.starttime, infer_datetime_format=True)\n",
    "    temp_df.stoptime = pd.to_datetime(temp_df.stoptime, infer_datetime_format=True)\n",
    "    \n",
    "    # Convert column dtypes\n",
    "    temp_df = temp_df.astype(col_types)\n",
    "    \n",
    "    # Process station data\n",
    "    temp_stations = process_station_data(temp_df)\n",
    "    \n",
    "    # Drop redundant columns\n",
    "    temp_df = temp_df.drop(['start station name', 'start station latitude', 'start station longitude',\n",
    "              'end station name', 'end station latitude', 'end station longitude'], axis=1)\n",
    "    \n",
    "    # Rename remaining columns\n",
    "    temp_df.columns = col_names\n",
    "\n",
    "    return temp_df, temp_stations\n",
    "\n",
    "\n",
    "# Function for abstracting out station-related data\n",
    "def process_station_data(df):\n",
    "    '''Processes and abstracts station-related data into a separate dataframe\n",
    "         \n",
    "    Args:\n",
    "      df (dataframe): dataframe containing bike rental data, including start and end stations\n",
    "    \n",
    "    Returns:\n",
    "      temp_stations (dataframe): dataframe containing the list of unique rental stations for a given month\n",
    "    '''\n",
    "    \n",
    "    # New column names\n",
    "    cols = ['id', 'name', 'lat', 'lon']\n",
    "\n",
    "    # Temp df for start stations\n",
    "    start_stations = df[['start station id', 'start station name',\n",
    "                         'start station latitude', 'start station longitude']]\n",
    "    start_stations.columns = cols\n",
    "    start_stations = start_stations.drop_duplicates()\n",
    "\n",
    "    # Temp df for end stations\n",
    "    end_stations = df[['end station id', 'end station name',\n",
    "                       'end station latitude', 'end station longitude']]\n",
    "    end_stations.columns = cols\n",
    "    end_stations = end_stations.drop_duplicates()\n",
    "    \n",
    "    # Concatenate the start/end station dfs and drop dups \n",
    "    temp_stations = pd.concat([start_stations, end_stations],\n",
    "                              ignore_index=True).drop_duplicates()\n",
    "    \n",
    "    return temp_stations"
   ]
  },
  {
   "cell_type": "markdown",
   "metadata": {},
   "source": [
    "\n",
    "### Read in the data\n"
   ]
  },
  {
   "cell_type": "code",
   "execution_count": null,
   "metadata": {},
   "outputs": [],
   "source": [
    "# Create lists for each set of dataframes\n",
    "rentals_dfs = []\n",
    "station_dfs = []\n",
    "\n",
    "# Read in and process the data\n",
    "data_files = glob.glob('../data/' + \"*.csv\")\n",
    "for file in data_files:\n",
    "    rentals_df, station_df = read_and_process(file)\n",
    "    rentals_dfs.append(rentals_df)\n",
    "    station_dfs.append(station_df)\n",
    "\n",
    "# Concatenate into 2 dataframes - rentals & stations and drop duplicate stations\n",
    "df = pd.concat(rentals_dfs, ignore_index=True)\n",
    "stations = pd.concat(station_dfs, ignore_index=True).drop_duplicates(subset='id', keep=\"first\")\n",
    "\n",
    "# Calculate memory usage\n",
    "rentals_mem = df.memory_usage().sum() / 1024**2\n",
    "stations_mem = stations.memory_usage().sum() / 1024**2\n",
    "\n",
    "# Print output\n",
    "print(\"Rentals: \" + str(df.shape[0]) + \" rows\")\n",
    "print('Memory usage after optimization:  {:.2f} MB'.format(rentals_mem))\n",
    "print(\"Stations: \" + str(stations.shape[0]) + \" rows\")\n",
    "print('Memory usage after optimization:  {:.2f} MB'.format(stations_mem))"
   ]
  },
  {
   "cell_type": "markdown",
   "metadata": {},
   "source": [
    "\n",
    "## 2. What's a good day to ride?\n",
    "\n",
    "TBD - Intro the section\n",
    "\n",
    "- Add more date dimensions\n",
    "- Add a count column\n",
    "- Trip count by dow, hod (gender?, age? usertype?)\n",
    "\n",
    "Our data set includes 2 columns containing datetime information, but the data is stored in str format. Let's start by converting these columns to datetime format. Then, following this conversion, we'll extract some additional date related info to aid us in our analysis later on. \n",
    "\n",
    "To do this, we will create 3 new columns:\n",
    "\n",
    "- **hour** - Extract hour of the day as int (i.e, 0 - 23, 0 = Midnight)\n",
    "- **dow** - Extract day of the week as int (i.e., 0 = Monday, 6 = Sunday)\n",
    "- **month-day** - Extract 2-digit month and 2-digit day (e.g., 01-31)\n",
    "- **year** - Extract the 4-digit year (e.g., 2019)\n",
    "- **date** - Extract the date (e.g., '2013-10-01')"
   ]
  },
  {
   "cell_type": "markdown",
   "metadata": {},
   "source": [
    "\n",
    "### Create new columns for date and time manipulations\n"
   ]
  },
  {
   "cell_type": "code",
   "execution_count": null,
   "metadata": {},
   "outputs": [],
   "source": [
    "# Create new columns for hour, day of week and date of rental\n",
    "# df[\"hour\"] = df.starttime.dt.hour\n",
    "# df[\"dow\"] = df.starttime.dt.dayofweek\n",
    "# df[\"month_day\"] = df.starttime.dt.strftime('%m-%d')\n",
    "# df[\"date\"] = df.starttime.dt.date\n",
    "\n",
    "\n",
    "# df['day'] = df.starttime.dt.day\n",
    "# df['month'] = df.starttime.dt.month\n",
    "df[\"year\"] = df.starttime.dt.year\n"
   ]
  },
  {
   "cell_type": "markdown",
   "metadata": {},
   "source": [
    "\n",
    "### Create a helper function for the plots\n"
   ]
  },
  {
   "cell_type": "code",
   "execution_count": null,
   "metadata": {},
   "outputs": [],
   "source": [
    "# def plot_barh(df, col, factor, ylabels, title, figsize):\n",
    "#     '''Plots a horizontal bar chart showing rental counts across a \n",
    "#         specified dimension (col)\n",
    "    \n",
    "#     Args:\n",
    "#       df (dataframe): dataframe containing bike rental data\n",
    "#       col (string): name of column for dimension to be plotted\n",
    "#       factor (integer): to indicate the number of bars (for arrangement)\n",
    "#       ylabels (list): list of strings for y-axis labels\n",
    "#       title (string): plot title\n",
    "#       figsize (tuple): tuple of integers designating width and height of output\"\n",
    "    \n",
    "#     Returns:\n",
    "#       Outputs plot inline\n",
    "#     '''\n",
    "    \n",
    "#     # The y values are the unique list of col values\n",
    "#     y = df[col].unique().tolist()\n",
    "    \n",
    "#     # The x values are the sum of the rental count by the col dimension \n",
    "#     rentals_19 = df[df.year == 2019].groupby([col])[col].count()\n",
    "#     x_19 = rentals_19.tolist()\n",
    "#     rentals_20 = df[df.year == 2020].groupby([col])[col].count()\n",
    "#     x_20 = rentals_20.tolist()\n",
    "    \n",
    "#     # Set width and arrange bars \n",
    "#     width = 0.75\n",
    "#     ind = np.arange(len(rentals_19))\n",
    "    \n",
    "#     # Create figure & set style\n",
    "#     fig = plt.figure(figsize=figsize)\n",
    "#     ax = fig.add_subplot(111)\n",
    "#     ax.set_title(title,fontsize=20)\n",
    "#     ax.set_ylim(-1,factor)\n",
    "#     sns.set_style(\"ticks\")\n",
    "# #     sns.set_style(\"whitegrid\")\n",
    "    \n",
    "#     # Plot the data for each year\n",
    "#     ax.barh(ind, x_19, width, color='#1E88E5', label='2019')\n",
    "#     ax.barh(ind, x_20, width, color='#FFC107', label='2020')\n",
    "        \n",
    "#     # Create axis labels and legend\n",
    "#     plt.yticks(ind+width/factor, labels=ylabels)\n",
    "#     plt.gca().invert_yaxis() # account for default reversal of the y axis values\n",
    "#     plt.legend(loc='upper right');\n",
    "    \n",
    "#     plt.show()"
   ]
  },
  {
   "cell_type": "markdown",
   "metadata": {},
   "source": [
    "### Plotting rides by hour of the day\n"
   ]
  },
  {
   "cell_type": "code",
   "execution_count": null,
   "metadata": {},
   "outputs": [],
   "source": [
    "# # Assign variables\n",
    "# col = 'hour'\n",
    "# factor = 24\n",
    "# ylabels = ['12:00 AM', '1:00 AM', '2:00 AM', '3:00 AM', '4:00 AM', '5:00 AM', '6:00 AM', '7:00 AM',\n",
    "#            '8:00 AM', '9:00 AM', '10:00 AM', '11:00 AM', '12:00 PM', '1:00 PM', '2:00 PM', '3:00 PM',\n",
    "#            '4:00 PM', '5:00 PM', '6:00 PM', '7:00 PM', '8:00 PM', '9:00 PM', '10:00 PM', '11:00 PM']\n",
    "# title = 'Total Rentals by Hour of Day'\n",
    "# figsize = (20,15)\n",
    "\n",
    "# # Create the plot\n",
    "# plot_barh(df, col, factor, ylabels, title, figsize)"
   ]
  },
  {
   "cell_type": "markdown",
   "metadata": {},
   "source": [
    "\n",
    "### Plotting rides by day of the week\n"
   ]
  },
  {
   "cell_type": "code",
   "execution_count": null,
   "metadata": {},
   "outputs": [],
   "source": [
    "# # Assign variables\n",
    "# col = 'dow'\n",
    "# factor = 7\n",
    "# ylabels = ['Monday', 'Tuesday', 'Wednesday', 'Thursday', 'Friday', 'Saturday', 'Sunday']\n",
    "# title = 'Total Rentals by Day of Week'\n",
    "# figsize = (20,5)\n",
    "\n",
    "# # Create the plot\n",
    "# plot_barh(df, col, factor, ylabels, title, figsize)"
   ]
  },
  {
   "cell_type": "markdown",
   "metadata": {},
   "source": [
    "\n",
    "### Rental count year-over-year comparison\n"
   ]
  },
  {
   "cell_type": "code",
   "execution_count": null,
   "metadata": {},
   "outputs": [],
   "source": [
    "# Sort the entire by starttime\n",
    "df = df.sort_values(by=['starttime']).reset_index(drop=True)"
   ]
  },
  {
   "cell_type": "code",
   "execution_count": null,
   "metadata": {},
   "outputs": [],
   "source": [
    "# Create a column to facilitate totaling rental count\n",
    "df['rental_count'] = 1"
   ]
  },
  {
   "cell_type": "code",
   "execution_count": null,
   "metadata": {},
   "outputs": [],
   "source": [
    "# Create temp dfs by year\n",
    "df_2019 = df.loc[df['year'] == 2019]\n",
    "df_2020 = df.loc[df['year'] == 2020]\n",
    "\n",
    "# Release df\n",
    "del df"
   ]
  },
  {
   "cell_type": "code",
   "execution_count": null,
   "metadata": {},
   "outputs": [],
   "source": [
    "# Calculate running total of rental counts by year\n",
    "df_2019['running_total'] = df_2019['rental_count'].cumsum()\n",
    "df_2020['running_total'] = df_2020['rental_count'].cumsum()"
   ]
  },
  {
   "cell_type": "code",
   "execution_count": null,
   "metadata": {},
   "outputs": [],
   "source": [
    "# Calculate running total of duration by year\n",
    "df_2019['running_total_dur'] = df_2019['tripduration'].cumsum()\n",
    "df_2020['running_total_dur'] = df_2020['tripduration'].cumsum()\n",
    "\n",
    "# Concatenate the temp dfs back into one"
   ]
  },
  {
   "cell_type": "code",
   "execution_count": null,
   "metadata": {},
   "outputs": [],
   "source": [
    "fig = plt.figure(figsize=(20,10))\n",
    "ax = sns.lineplot(x='starttime', y='running_total', data=df_2019, color='#1E88E5', label='2019')\n",
    "sns.lineplot(x='starttime', y='running_total', data=df_2020, color='#FFC107', label='2020')\n",
    "\n",
    "# plt.axhline(y_19.mean(), color='#1E88E5', linestyle='dashed', linewidth=2, label='2019 Avg')\n",
    "# plt.axhline(y_20.mean(), color='#FFC107', linestyle='dashed', linewidth=2, label='2020 Avg')"
   ]
  },
  {
   "cell_type": "code",
   "execution_count": null,
   "metadata": {},
   "outputs": [],
   "source": [
    "###\n",
    "# TODO\n",
    "# 1. Figure out how to label the weekend bars and determine if adjustment is needed to placement\n",
    "# 2. Adjust labels on x-axis to show all 31 days\n",
    "###\n",
    "    \n",
    "#     # Create figure & set style\n",
    "#     fig = plt.figure(figsize=figsize)\n",
    "#     ax = fig.add_subplot(111)\n",
    "#     ax.set_title(title,fontsize=20)\n",
    "#     ax.set_ylim(-1,factor)\n",
    "#     sns.set_style(\"ticks\")\n",
    "#     plt.legend(loc='upper right');\n",
    "\n",
    "# The x values are the unique list of dates per year\n",
    "x_19 = df[df.year == 2019]['month_day'].unique().tolist()\n",
    "x_20 = df[df.year == 2020]['month_day'].unique().tolist()\n",
    "\n",
    "# The y values are the rental counts for each user type\n",
    "y_19 = df[df.year == 2019].groupby(['month_day']).usertype.count()\n",
    "y_20 = df[df.year == 2020].groupby(['month_day']).usertype.count()\n",
    "\n",
    "# Create the figure and plot the lines for each year, by date and average \n",
    "fig = plt.figure(figsize=(20,10))\n",
    "ax = sns.lineplot(x_19, y_19, color='#1E88E5', label='2019')\n",
    "plt.axhline(y_19.mean(), color='#1E88E5', linestyle='dashed', linewidth=2, label='2019 Avg')\n",
    "sns.lineplot(x_20, y_20, color='#FFC107', label='2020')\n",
    "plt.axhline(y_20.mean(), color='#FFC107', linestyle='dashed', linewidth=2, label='2020 Avg')\n",
    "\n",
    "# # Create a list of weekend dates\n",
    "# weekends = []\n",
    "# for date in x_values:\n",
    "#     if date.weekday() >= 5:\n",
    "#         weekends.append(date)\n",
    "\n",
    "# # Plot a vertical gray bar to designate weekend days\n",
    "# for date in weekends:\n",
    "#     plt.axvline(date, color='gray', alpha=0.2, linewidth=37) # linewidth based on trial and error\n",
    "\n",
    "# Add limits, labels and title\n",
    "# g1.set_xticks(range(1,32,1))\n",
    "# g1.set_xticklabels = [item.day for item in x_values]\n",
    "# g1.set_xlim(df.date.min(), df.date.max())\n",
    "g.set(xlabel=None, ylabel=None,\n",
    "      title='Rental Count Per Day - Customer vs. Subscriber')\n",
    "g.legend(loc='upper right', bbox_to_anchor=(1.15, 1.0), ncol=1);"
   ]
  },
  {
   "cell_type": "code",
   "execution_count": null,
   "metadata": {},
   "outputs": [],
   "source": [
    "temp_df_gender = df.pivot_table(index=['year', 'month', 'day', 'gender'],values='rental_count',\n",
    "                                     aggfunc=np.sum).reset_index()"
   ]
  },
  {
   "cell_type": "code",
   "execution_count": null,
   "metadata": {},
   "outputs": [],
   "source": [
    "temp_df_gender = temp_df_gender[(temp_df_gender['month'] != 2) & (temp_df_gender['day'] != 29)]"
   ]
  },
  {
   "cell_type": "code",
   "execution_count": null,
   "metadata": {},
   "outputs": [],
   "source": [
    "g = sns.FacetGrid(temp_df_gender, col='year', col_wrap=2, height=15)\n",
    "g = g.map(plt.plot, 'starttime', 'rental_count')"
   ]
  },
  {
   "cell_type": "code",
   "execution_count": null,
   "metadata": {},
   "outputs": [],
   "source": [
    "df = pd.DataFrame(\n",
    "    data=np.random.randn(90, 4),\n",
    "    columns=pd.Series(list(\"ABCD\"), name=\"walk\"),\n",
    "    index=pd.date_range(\"2015-01-01\", \"2015-03-31\",\n",
    "                        name=\"date\"))\n",
    "df = df.cumsum(axis=0).stack().reset_index(name=\"val\")\n",
    "def dateplot(x, y, **kwargs):\n",
    "    ax = plt.gca()\n",
    "    data = kwargs.pop(\"data\")\n",
    "    data.plot(x=x, y=y, ax=ax, grid=False, **kwargs)\n",
    "g = sns.FacetGrid(df, col=\"walk\", col_wrap=2, height=3.5)\n",
    "g = g.map_dataframe(dateplot, \"date\", \"val\")"
   ]
  },
  {
   "cell_type": "markdown",
   "metadata": {},
   "source": [
    "\n",
    "## 3. It's always sunny in NYC\n",
    "\n",
    "TBD - Intro section\n",
    "- Merge in weather data\n",
    "- Trip counts versus weather (gender? age? usertype?)"
   ]
  },
  {
   "cell_type": "markdown",
   "metadata": {},
   "source": [
    "\n",
    "## 4. Bikes, bikes, bikes\n",
    "\n",
    "TBD - Intro section\n",
    "- Most popular bikes - by count\n",
    "- Most used bikes - by duration\n",
    "- Count of bikes in service at any given time"
   ]
  },
  {
   "cell_type": "markdown",
   "metadata": {},
   "source": [
    "\n",
    "## 5. What about stations?\n",
    "\n",
    "TBD - Intro section\n",
    "- Most popular stations by count (age, gender, usertype options / slider or other interactive to change between months\n",
    "- Least popular stations\n",
    "- Most heavily traveled routes (if possible to get directions)"
   ]
  },
  {
   "cell_type": "markdown",
   "metadata": {},
   "source": [
    "\n",
    "## 6. So what does it all mean?\n",
    "\n",
    "TBD - conclusion\n",
    "- Recommendations\n",
    "- Suggestions for other analysis"
   ]
  },
  {
   "cell_type": "markdown",
   "metadata": {},
   "source": []
  }
 ],
 "metadata": {
  "kernelspec": {
   "display_name": "Python 3",
   "language": "python",
   "name": "python3"
  },
  "language_info": {
   "codemirror_mode": {
    "name": "ipython",
    "version": 3
   },
   "file_extension": ".py",
   "mimetype": "text/x-python",
   "name": "python",
   "nbconvert_exporter": "python",
   "pygments_lexer": "ipython3",
   "version": "3.7.4"
  }
 },
 "nbformat": 4,
 "nbformat_minor": 4
}
